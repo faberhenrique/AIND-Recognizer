{
 "cells": [
  {
   "cell_type": "markdown",
   "metadata": {},
   "source": [
    "# Artificial Intelligence Engineer Nanodegree - Probabilistic Models\n",
    "## Project: Sign Language Recognition System\n",
    "- [Introduction](#intro)\n",
    "- [Part 1 Feature Selection](#part1_tutorial)\n",
    "    - [Tutorial](#part1_tutorial)\n",
    "    - [Features Submission](#part1_submission)\n",
    "    - [Features Unittest](#part1_test)\n",
    "- [Part 2 Train the models](#part2_tutorial)\n",
    "    - [Tutorial](#part2_tutorial)\n",
    "    - [Model Selection Score Submission](#part2_submission)\n",
    "    - [Model Score Unittest](#part2_test)\n",
    "- [Part 3 Build a Recognizer](#part3_tutorial)\n",
    "    - [Tutorial](#part3_tutorial)\n",
    "    - [Recognizer Submission](#part3_submission)\n",
    "    - [Recognizer Unittest](#part3_test)\n",
    "- [Part 4 (OPTIONAL) Improve the WER with Language Models](#part4_info)"
   ]
  },
  {
   "cell_type": "markdown",
   "metadata": {},
   "source": [
    "<a id='intro'></a>\n",
    "## Introduction\n",
    "The overall goal of this project is to build a word recognizer for American Sign Language video sequences, demonstrating the power of probabalistic models.  In particular, this project employs  [hidden Markov models (HMM's)](https://en.wikipedia.org/wiki/Hidden_Markov_model) to analyze a series of measurements taken from videos of American Sign Language (ASL) collected for research (see the [RWTH-BOSTON-104 Database](http://www-i6.informatik.rwth-aachen.de/~dreuw/database-rwth-boston-104.php)).  In this video, the right-hand x and y locations are plotted as the speaker signs the sentence.\n",
    "[![ASLR demo](http://www-i6.informatik.rwth-aachen.de/~dreuw/images/demosample.png)](https://drive.google.com/open?id=0B_5qGuFe-wbhUXRuVnNZVnMtam8)\n",
    "\n",
    "The raw data, train, and test sets are pre-defined.  You will derive a variety of feature sets (explored in Part 1), as well as implement three different model selection criterion to determine the optimal number of hidden states for each word model (explored in Part 2). Finally, in Part 3 you will implement the recognizer and compare the effects the different combinations of feature sets and model selection criteria.  \n",
    "\n",
    "At the end of each Part, complete the submission cells with implementations, answer all questions, and pass the unit tests.  Then submit the completed notebook for review!"
   ]
  },
  {
   "cell_type": "markdown",
   "metadata": {},
   "source": [
    "<a id='part1_tutorial'></a>\n",
    "## PART 1: Data\n",
    "\n",
    "### Features Tutorial\n",
    "##### Load the initial database\n",
    "A data handler designed for this database is provided in the student codebase as the `AslDb` class in the `asl_data` module.  This handler creates the initial [pandas](http://pandas.pydata.org/pandas-docs/stable/) dataframe from the corpus of data included in the `data` directory as well as dictionaries suitable for extracting data in a format friendly to the [hmmlearn](https://hmmlearn.readthedocs.io/en/latest/) library.  We'll use those to create models in Part 2.\n",
    "\n",
    "To start, let's set up the initial database and select an example set of features for the training set.  At the end of Part 1, you will create additional feature sets for experimentation. "
   ]
  },
  {
   "cell_type": "code",
   "execution_count": 124,
   "metadata": {},
   "outputs": [
    {
     "data": {
      "text/html": [
       "<div>\n",
       "<style scoped>\n",
       "    .dataframe tbody tr th:only-of-type {\n",
       "        vertical-align: middle;\n",
       "    }\n",
       "\n",
       "    .dataframe tbody tr th {\n",
       "        vertical-align: top;\n",
       "    }\n",
       "\n",
       "    .dataframe thead th {\n",
       "        text-align: right;\n",
       "    }\n",
       "</style>\n",
       "<table border=\"1\" class=\"dataframe\">\n",
       "  <thead>\n",
       "    <tr style=\"text-align: right;\">\n",
       "      <th></th>\n",
       "      <th></th>\n",
       "      <th>left-x</th>\n",
       "      <th>left-y</th>\n",
       "      <th>right-x</th>\n",
       "      <th>right-y</th>\n",
       "      <th>nose-x</th>\n",
       "      <th>nose-y</th>\n",
       "      <th>speaker</th>\n",
       "    </tr>\n",
       "    <tr>\n",
       "      <th>video</th>\n",
       "      <th>frame</th>\n",
       "      <th></th>\n",
       "      <th></th>\n",
       "      <th></th>\n",
       "      <th></th>\n",
       "      <th></th>\n",
       "      <th></th>\n",
       "      <th></th>\n",
       "    </tr>\n",
       "  </thead>\n",
       "  <tbody>\n",
       "    <tr>\n",
       "      <th rowspan=\"5\" valign=\"top\">98</th>\n",
       "      <th>0</th>\n",
       "      <td>149</td>\n",
       "      <td>181</td>\n",
       "      <td>170</td>\n",
       "      <td>175</td>\n",
       "      <td>161</td>\n",
       "      <td>62</td>\n",
       "      <td>woman-1</td>\n",
       "    </tr>\n",
       "    <tr>\n",
       "      <th>1</th>\n",
       "      <td>149</td>\n",
       "      <td>181</td>\n",
       "      <td>170</td>\n",
       "      <td>175</td>\n",
       "      <td>161</td>\n",
       "      <td>62</td>\n",
       "      <td>woman-1</td>\n",
       "    </tr>\n",
       "    <tr>\n",
       "      <th>2</th>\n",
       "      <td>149</td>\n",
       "      <td>181</td>\n",
       "      <td>170</td>\n",
       "      <td>175</td>\n",
       "      <td>161</td>\n",
       "      <td>62</td>\n",
       "      <td>woman-1</td>\n",
       "    </tr>\n",
       "    <tr>\n",
       "      <th>3</th>\n",
       "      <td>149</td>\n",
       "      <td>181</td>\n",
       "      <td>170</td>\n",
       "      <td>175</td>\n",
       "      <td>161</td>\n",
       "      <td>62</td>\n",
       "      <td>woman-1</td>\n",
       "    </tr>\n",
       "    <tr>\n",
       "      <th>4</th>\n",
       "      <td>149</td>\n",
       "      <td>181</td>\n",
       "      <td>170</td>\n",
       "      <td>175</td>\n",
       "      <td>161</td>\n",
       "      <td>62</td>\n",
       "      <td>woman-1</td>\n",
       "    </tr>\n",
       "  </tbody>\n",
       "</table>\n",
       "</div>"
      ],
      "text/plain": [
       "             left-x  left-y  right-x  right-y  nose-x  nose-y  speaker\n",
       "video frame                                                           \n",
       "98    0         149     181      170      175     161      62  woman-1\n",
       "      1         149     181      170      175     161      62  woman-1\n",
       "      2         149     181      170      175     161      62  woman-1\n",
       "      3         149     181      170      175     161      62  woman-1\n",
       "      4         149     181      170      175     161      62  woman-1"
      ]
     },
     "execution_count": 124,
     "metadata": {},
     "output_type": "execute_result"
    }
   ],
   "source": [
    "import numpy as np\n",
    "import pandas as pd\n",
    "from asl_data import AslDb\n",
    "\n",
    "\n",
    "asl = AslDb() # initializes the database\n",
    "asl.df.head() # displays the first five rows of the asl database, indexed by video and frame"
   ]
  },
  {
   "cell_type": "code",
   "execution_count": 125,
   "metadata": {},
   "outputs": [
    {
     "data": {
      "text/plain": [
       "left-x         149\n",
       "left-y         181\n",
       "right-x        170\n",
       "right-y        175\n",
       "nose-x         161\n",
       "nose-y          62\n",
       "speaker    woman-1\n",
       "Name: (98, 1), dtype: object"
      ]
     },
     "execution_count": 125,
     "metadata": {},
     "output_type": "execute_result"
    }
   ],
   "source": [
    "asl.df.ix[98,1]  # look at the data available for an individual frame"
   ]
  },
  {
   "cell_type": "markdown",
   "metadata": {},
   "source": [
    "The frame represented by video 98, frame 1 is shown here:\n",
    "![Video 98](http://www-i6.informatik.rwth-aachen.de/~dreuw/database/rwth-boston-104/overview/images/orig/098-start.jpg)"
   ]
  },
  {
   "cell_type": "markdown",
   "metadata": {},
   "source": [
    "##### Feature selection for training the model\n",
    "The objective of feature selection when training a model is to choose the most relevant variables while keeping the model as simple as possible, thus reducing training time.  We can use the raw features already provided or derive our own and add columns to the pandas dataframe `asl.df` for selection. As an example, in the next cell a feature named `'grnd-ry'` is added. This feature is the difference between the right-hand y value and the nose y value, which serves as the \"ground\" right y value. "
   ]
  },
  {
   "cell_type": "code",
   "execution_count": 126,
   "metadata": {},
   "outputs": [
    {
     "data": {
      "text/html": [
       "<div>\n",
       "<style scoped>\n",
       "    .dataframe tbody tr th:only-of-type {\n",
       "        vertical-align: middle;\n",
       "    }\n",
       "\n",
       "    .dataframe tbody tr th {\n",
       "        vertical-align: top;\n",
       "    }\n",
       "\n",
       "    .dataframe thead th {\n",
       "        text-align: right;\n",
       "    }\n",
       "</style>\n",
       "<table border=\"1\" class=\"dataframe\">\n",
       "  <thead>\n",
       "    <tr style=\"text-align: right;\">\n",
       "      <th></th>\n",
       "      <th></th>\n",
       "      <th>left-x</th>\n",
       "      <th>left-y</th>\n",
       "      <th>right-x</th>\n",
       "      <th>right-y</th>\n",
       "      <th>nose-x</th>\n",
       "      <th>nose-y</th>\n",
       "      <th>speaker</th>\n",
       "      <th>grnd-ry</th>\n",
       "    </tr>\n",
       "    <tr>\n",
       "      <th>video</th>\n",
       "      <th>frame</th>\n",
       "      <th></th>\n",
       "      <th></th>\n",
       "      <th></th>\n",
       "      <th></th>\n",
       "      <th></th>\n",
       "      <th></th>\n",
       "      <th></th>\n",
       "      <th></th>\n",
       "    </tr>\n",
       "  </thead>\n",
       "  <tbody>\n",
       "    <tr>\n",
       "      <th rowspan=\"5\" valign=\"top\">98</th>\n",
       "      <th>0</th>\n",
       "      <td>149</td>\n",
       "      <td>181</td>\n",
       "      <td>170</td>\n",
       "      <td>175</td>\n",
       "      <td>161</td>\n",
       "      <td>62</td>\n",
       "      <td>woman-1</td>\n",
       "      <td>113</td>\n",
       "    </tr>\n",
       "    <tr>\n",
       "      <th>1</th>\n",
       "      <td>149</td>\n",
       "      <td>181</td>\n",
       "      <td>170</td>\n",
       "      <td>175</td>\n",
       "      <td>161</td>\n",
       "      <td>62</td>\n",
       "      <td>woman-1</td>\n",
       "      <td>113</td>\n",
       "    </tr>\n",
       "    <tr>\n",
       "      <th>2</th>\n",
       "      <td>149</td>\n",
       "      <td>181</td>\n",
       "      <td>170</td>\n",
       "      <td>175</td>\n",
       "      <td>161</td>\n",
       "      <td>62</td>\n",
       "      <td>woman-1</td>\n",
       "      <td>113</td>\n",
       "    </tr>\n",
       "    <tr>\n",
       "      <th>3</th>\n",
       "      <td>149</td>\n",
       "      <td>181</td>\n",
       "      <td>170</td>\n",
       "      <td>175</td>\n",
       "      <td>161</td>\n",
       "      <td>62</td>\n",
       "      <td>woman-1</td>\n",
       "      <td>113</td>\n",
       "    </tr>\n",
       "    <tr>\n",
       "      <th>4</th>\n",
       "      <td>149</td>\n",
       "      <td>181</td>\n",
       "      <td>170</td>\n",
       "      <td>175</td>\n",
       "      <td>161</td>\n",
       "      <td>62</td>\n",
       "      <td>woman-1</td>\n",
       "      <td>113</td>\n",
       "    </tr>\n",
       "  </tbody>\n",
       "</table>\n",
       "</div>"
      ],
      "text/plain": [
       "             left-x  left-y  right-x  right-y  nose-x  nose-y  speaker  \\\n",
       "video frame                                                              \n",
       "98    0         149     181      170      175     161      62  woman-1   \n",
       "      1         149     181      170      175     161      62  woman-1   \n",
       "      2         149     181      170      175     161      62  woman-1   \n",
       "      3         149     181      170      175     161      62  woman-1   \n",
       "      4         149     181      170      175     161      62  woman-1   \n",
       "\n",
       "             grnd-ry  \n",
       "video frame           \n",
       "98    0          113  \n",
       "      1          113  \n",
       "      2          113  \n",
       "      3          113  \n",
       "      4          113  "
      ]
     },
     "execution_count": 126,
     "metadata": {},
     "output_type": "execute_result"
    }
   ],
   "source": [
    "asl.df['grnd-ry'] = asl.df['right-y'] - asl.df['nose-y']\n",
    "asl.df.head()  # the new feature 'grnd-ry' is now in the frames dictionary"
   ]
  },
  {
   "cell_type": "markdown",
   "metadata": {},
   "source": [
    "##### Try it!"
   ]
  },
  {
   "cell_type": "code",
   "execution_count": 127,
   "metadata": {},
   "outputs": [
    {
     "name": "stdout",
     "output_type": "stream",
     "text": [
      "asl.df sample\n"
     ]
    },
    {
     "data": {
      "text/html": [
       "<div>\n",
       "<style scoped>\n",
       "    .dataframe tbody tr th:only-of-type {\n",
       "        vertical-align: middle;\n",
       "    }\n",
       "\n",
       "    .dataframe tbody tr th {\n",
       "        vertical-align: top;\n",
       "    }\n",
       "\n",
       "    .dataframe thead th {\n",
       "        text-align: right;\n",
       "    }\n",
       "</style>\n",
       "<table border=\"1\" class=\"dataframe\">\n",
       "  <thead>\n",
       "    <tr style=\"text-align: right;\">\n",
       "      <th></th>\n",
       "      <th></th>\n",
       "      <th>left-x</th>\n",
       "      <th>left-y</th>\n",
       "      <th>right-x</th>\n",
       "      <th>right-y</th>\n",
       "      <th>nose-x</th>\n",
       "      <th>nose-y</th>\n",
       "      <th>speaker</th>\n",
       "      <th>grnd-ry</th>\n",
       "      <th>grnd-rx</th>\n",
       "      <th>grnd-lx</th>\n",
       "      <th>grnd-ly</th>\n",
       "    </tr>\n",
       "    <tr>\n",
       "      <th>video</th>\n",
       "      <th>frame</th>\n",
       "      <th></th>\n",
       "      <th></th>\n",
       "      <th></th>\n",
       "      <th></th>\n",
       "      <th></th>\n",
       "      <th></th>\n",
       "      <th></th>\n",
       "      <th></th>\n",
       "      <th></th>\n",
       "      <th></th>\n",
       "      <th></th>\n",
       "    </tr>\n",
       "  </thead>\n",
       "  <tbody>\n",
       "    <tr>\n",
       "      <th rowspan=\"5\" valign=\"top\">98</th>\n",
       "      <th>0</th>\n",
       "      <td>149</td>\n",
       "      <td>181</td>\n",
       "      <td>170</td>\n",
       "      <td>175</td>\n",
       "      <td>161</td>\n",
       "      <td>62</td>\n",
       "      <td>woman-1</td>\n",
       "      <td>113</td>\n",
       "      <td>9</td>\n",
       "      <td>-12</td>\n",
       "      <td>119</td>\n",
       "    </tr>\n",
       "    <tr>\n",
       "      <th>1</th>\n",
       "      <td>149</td>\n",
       "      <td>181</td>\n",
       "      <td>170</td>\n",
       "      <td>175</td>\n",
       "      <td>161</td>\n",
       "      <td>62</td>\n",
       "      <td>woman-1</td>\n",
       "      <td>113</td>\n",
       "      <td>9</td>\n",
       "      <td>-12</td>\n",
       "      <td>119</td>\n",
       "    </tr>\n",
       "    <tr>\n",
       "      <th>2</th>\n",
       "      <td>149</td>\n",
       "      <td>181</td>\n",
       "      <td>170</td>\n",
       "      <td>175</td>\n",
       "      <td>161</td>\n",
       "      <td>62</td>\n",
       "      <td>woman-1</td>\n",
       "      <td>113</td>\n",
       "      <td>9</td>\n",
       "      <td>-12</td>\n",
       "      <td>119</td>\n",
       "    </tr>\n",
       "    <tr>\n",
       "      <th>3</th>\n",
       "      <td>149</td>\n",
       "      <td>181</td>\n",
       "      <td>170</td>\n",
       "      <td>175</td>\n",
       "      <td>161</td>\n",
       "      <td>62</td>\n",
       "      <td>woman-1</td>\n",
       "      <td>113</td>\n",
       "      <td>9</td>\n",
       "      <td>-12</td>\n",
       "      <td>119</td>\n",
       "    </tr>\n",
       "    <tr>\n",
       "      <th>4</th>\n",
       "      <td>149</td>\n",
       "      <td>181</td>\n",
       "      <td>170</td>\n",
       "      <td>175</td>\n",
       "      <td>161</td>\n",
       "      <td>62</td>\n",
       "      <td>woman-1</td>\n",
       "      <td>113</td>\n",
       "      <td>9</td>\n",
       "      <td>-12</td>\n",
       "      <td>119</td>\n",
       "    </tr>\n",
       "  </tbody>\n",
       "</table>\n",
       "</div>"
      ],
      "text/plain": [
       "             left-x  left-y  right-x  right-y  nose-x  nose-y  speaker  \\\n",
       "video frame                                                              \n",
       "98    0         149     181      170      175     161      62  woman-1   \n",
       "      1         149     181      170      175     161      62  woman-1   \n",
       "      2         149     181      170      175     161      62  woman-1   \n",
       "      3         149     181      170      175     161      62  woman-1   \n",
       "      4         149     181      170      175     161      62  woman-1   \n",
       "\n",
       "             grnd-ry  grnd-rx  grnd-lx  grnd-ly  \n",
       "video frame                                      \n",
       "98    0          113        9      -12      119  \n",
       "      1          113        9      -12      119  \n",
       "      2          113        9      -12      119  \n",
       "      3          113        9      -12      119  \n",
       "      4          113        9      -12      119  "
      ]
     },
     "metadata": {},
     "output_type": "display_data"
    },
    {
     "data": {
      "text/html": [
       "<font color=green>Correct!</font><br/>"
      ],
      "text/plain": [
       "<IPython.core.display.HTML object>"
      ]
     },
     "execution_count": 127,
     "metadata": {},
     "output_type": "execute_result"
    }
   ],
   "source": [
    "from asl_utils import test_features_tryit\n",
    "# TODO add df columns for 'grnd-rx', 'grnd-ly', 'grnd-lx' representing differences between hand and nose locations\n",
    "asl.df['grnd-rx'] =  asl.df['right-x'] - asl.df['nose-x']\n",
    "asl.df['grnd-lx'] =  asl.df['left-x'] - asl.df['nose-x']\n",
    "asl.df['grnd-ly'] =  asl.df['left-y'] - asl.df['nose-y']\n",
    "# test the code\n",
    "test_features_tryit(asl)"
   ]
  },
  {
   "cell_type": "code",
   "execution_count": 128,
   "metadata": {},
   "outputs": [
    {
     "data": {
      "text/plain": [
       "[9, 113, -12, 119]"
      ]
     },
     "execution_count": 128,
     "metadata": {},
     "output_type": "execute_result"
    }
   ],
   "source": [
    "# collect the features into a list\n",
    "features_ground = ['grnd-rx','grnd-ry','grnd-lx','grnd-ly']\n",
    " #show a single set of features for a given (video, frame) tuple\n",
    "[asl.df.ix[98,1][v] for v in features_ground]"
   ]
  },
  {
   "cell_type": "markdown",
   "metadata": {},
   "source": [
    "##### Build the training set\n",
    "Now that we have a feature list defined, we can pass that list to the `build_training` method to collect the features for all the words in the training set.  Each word in the training set has multiple examples from various videos.  Below we can see the unique words that have been loaded into the training set:"
   ]
  },
  {
   "cell_type": "code",
   "execution_count": 129,
   "metadata": {},
   "outputs": [
    {
     "name": "stdout",
     "output_type": "stream",
     "text": [
      "Training words: ['IX-1P', 'CORN', 'WOMAN', 'POTATO', 'MOVIE', 'DECIDE', 'WONT', 'SEE', 'THINK', 'FRED', 'CAN', 'SUE', 'BILL', 'TOY', 'JANA', 'WRITE', 'GIRL', 'LEAVE', 'BLUE', 'SELL', 'STOLEN', 'SELF', 'ALL', 'BROCCOLI', 'STUDENT', 'FUTURE', 'BOY', 'GROUP', 'BUY1', 'ANN', 'FRANK', 'BREAK-DOWN', 'LAST-WEEK', 'CHICAGO', 'CHINA', 'COAT', 'GIVE2', 'SAY', 'BORROW', 'CAR', 'BOX', 'HOMEWORK', 'SHOOT', 'HOUSE', 'BLAME', 'NEW', 'GIVE', 'BUY', 'PEOPLE', 'EAT', 'SHOULD', 'CORN1', 'FISH', 'PAST', 'BUT', 'PARTY', 'THROW', 'BROTHER', 'MANY', 'HIT', 'LIVE', 'GO2', 'MOTHER', 'OLD', 'LEG', 'LOVE', 'GET', 'HERE', 'CHOCOLATE', 'TEACHER', 'BOOK', 'WILL', 'NEXT-WEEK', 'FIND', 'PUTASIDE', 'GIVE3', 'GIVE1', 'GO1', 'SOMETHING-ONE', 'MAN', 'VIDEOTAPE', 'TOY1', 'HAVE', 'MARY', 'WANT', 'NEW-YORK', 'SEARCH-FOR', 'PREFER', 'TOMORROW', 'TELL', 'CANDY', 'ARRIVE', 'LIKE', 'JOHN', 'VEGETABLE', 'VISIT', 'POSS', 'KNOW', 'NAME', 'WHAT', 'FINISH', 'READ', 'GO', 'FUTURE1', 'CHICKEN', 'SAY-1P', 'NOT', 'IX', 'YESTERDAY', 'APPLE', 'FRIEND', 'WHO']\n"
     ]
    }
   ],
   "source": [
    "training = asl.build_training(features_ground)\n",
    "print(\"Training words: {}\".format(training.words))"
   ]
  },
  {
   "cell_type": "markdown",
   "metadata": {},
   "source": [
    "The training data in `training` is an object of class `WordsData` defined in the `asl_data` module.  in addition to the `words` list, data can be accessed with the `get_all_sequences`, `get_all_Xlengths`, `get_word_sequences`, and `get_word_Xlengths` methods. We need the `get_word_Xlengths` method to train multiple sequences with the `hmmlearn` library.  In the following example, notice that there are two lists; the first is a concatenation of all the sequences(the X portion) and the second is a list of the sequence lengths(the Lengths portion)."
   ]
  },
  {
   "cell_type": "code",
   "execution_count": 130,
   "metadata": {},
   "outputs": [
    {
     "data": {
      "text/plain": [
       "(array([[-11,  48,   7, 120],\n",
       "        [-11,  48,   8, 109],\n",
       "        [ -8,  49,  11,  98],\n",
       "        [ -7,  50,   7,  87],\n",
       "        [ -4,  54,   7,  77],\n",
       "        [ -4,  54,   6,  69],\n",
       "        [ -4,  54,   6,  69],\n",
       "        [-13,  52,   6,  69],\n",
       "        [-13,  52,   6,  69],\n",
       "        [ -8,  51,   6,  69],\n",
       "        [ -8,  51,   6,  69],\n",
       "        [ -8,  51,   6,  69],\n",
       "        [ -8,  51,   6,  69],\n",
       "        [ -8,  51,   6,  69],\n",
       "        [-10,  59,   7,  71],\n",
       "        [-15,  64,   9,  77],\n",
       "        [-17,  75,  13,  81],\n",
       "        [ -4,  48,  -4, 113],\n",
       "        [ -2,  53,  -4, 113],\n",
       "        [ -4,  55,   2,  98],\n",
       "        [ -4,  58,   2,  98],\n",
       "        [ -1,  59,   2,  89],\n",
       "        [ -1,  59,  -1,  84],\n",
       "        [ -1,  59,  -1,  84],\n",
       "        [ -7,  63,  -1,  84],\n",
       "        [ -7,  63,  -1,  84],\n",
       "        [ -7,  63,   3,  83],\n",
       "        [ -7,  63,   3,  83],\n",
       "        [ -7,  63,   3,  83],\n",
       "        [ -7,  63,   3,  83],\n",
       "        [ -7,  63,   3,  83],\n",
       "        [ -7,  63,   3,  83],\n",
       "        [ -7,  63,   3,  83],\n",
       "        [ -4,  70,   3,  83],\n",
       "        [ -4,  70,   3,  83],\n",
       "        [ -2,  73,   5,  90],\n",
       "        [ -3,  79,  -4,  96],\n",
       "        [-15,  98,  13, 135],\n",
       "        [ -6,  93,  12, 128],\n",
       "        [ -2,  89,  14, 118],\n",
       "        [  5,  90,  10, 108],\n",
       "        [  4,  86,   7, 105],\n",
       "        [  4,  86,   7, 105],\n",
       "        [  4,  86,  13, 100],\n",
       "        [ -3,  82,  14,  96],\n",
       "        [ -3,  82,  14,  96],\n",
       "        [  6,  89,  16, 100],\n",
       "        [  6,  89,  16, 100],\n",
       "        [  7,  85,  17, 111]]), [17, 20, 12])"
      ]
     },
     "execution_count": 130,
     "metadata": {},
     "output_type": "execute_result"
    }
   ],
   "source": [
    "training.get_word_Xlengths('CHOCOLATE')"
   ]
  },
  {
   "cell_type": "markdown",
   "metadata": {},
   "source": [
    "###### More feature sets\n",
    "So far we have a simple feature set that is enough to get started modeling.  However, we might get better results if we manipulate the raw values a bit more, so we will go ahead and set up some other options now for experimentation later.  For example, we could normalize each speaker's range of motion with grouped statistics using [Pandas stats](http://pandas.pydata.org/pandas-docs/stable/api.html#api-dataframe-stats) functions and [pandas groupby](http://pandas.pydata.org/pandas-docs/stable/generated/pandas.DataFrame.groupby.html).  Below is an example for finding the means of all speaker subgroups."
   ]
  },
  {
   "cell_type": "code",
   "execution_count": 131,
   "metadata": {
    "scrolled": true
   },
   "outputs": [
    {
     "data": {
      "text/html": [
       "<div>\n",
       "<style scoped>\n",
       "    .dataframe tbody tr th:only-of-type {\n",
       "        vertical-align: middle;\n",
       "    }\n",
       "\n",
       "    .dataframe tbody tr th {\n",
       "        vertical-align: top;\n",
       "    }\n",
       "\n",
       "    .dataframe thead th {\n",
       "        text-align: right;\n",
       "    }\n",
       "</style>\n",
       "<table border=\"1\" class=\"dataframe\">\n",
       "  <thead>\n",
       "    <tr style=\"text-align: right;\">\n",
       "      <th></th>\n",
       "      <th>left-x</th>\n",
       "      <th>left-y</th>\n",
       "      <th>right-x</th>\n",
       "      <th>right-y</th>\n",
       "      <th>nose-x</th>\n",
       "      <th>nose-y</th>\n",
       "      <th>grnd-ry</th>\n",
       "      <th>grnd-rx</th>\n",
       "      <th>grnd-lx</th>\n",
       "      <th>grnd-ly</th>\n",
       "    </tr>\n",
       "    <tr>\n",
       "      <th>speaker</th>\n",
       "      <th></th>\n",
       "      <th></th>\n",
       "      <th></th>\n",
       "      <th></th>\n",
       "      <th></th>\n",
       "      <th></th>\n",
       "      <th></th>\n",
       "      <th></th>\n",
       "      <th></th>\n",
       "      <th></th>\n",
       "    </tr>\n",
       "  </thead>\n",
       "  <tbody>\n",
       "    <tr>\n",
       "      <th>man-1</th>\n",
       "      <td>206.248203</td>\n",
       "      <td>218.679449</td>\n",
       "      <td>155.464350</td>\n",
       "      <td>150.371031</td>\n",
       "      <td>175.031756</td>\n",
       "      <td>61.642600</td>\n",
       "      <td>88.728430</td>\n",
       "      <td>-19.567406</td>\n",
       "      <td>31.216447</td>\n",
       "      <td>157.036848</td>\n",
       "    </tr>\n",
       "    <tr>\n",
       "      <th>woman-1</th>\n",
       "      <td>164.661438</td>\n",
       "      <td>161.271242</td>\n",
       "      <td>151.017865</td>\n",
       "      <td>117.332462</td>\n",
       "      <td>162.655120</td>\n",
       "      <td>57.245098</td>\n",
       "      <td>60.087364</td>\n",
       "      <td>-11.637255</td>\n",
       "      <td>2.006318</td>\n",
       "      <td>104.026144</td>\n",
       "    </tr>\n",
       "    <tr>\n",
       "      <th>woman-2</th>\n",
       "      <td>183.214509</td>\n",
       "      <td>176.527232</td>\n",
       "      <td>156.866295</td>\n",
       "      <td>119.835714</td>\n",
       "      <td>170.318973</td>\n",
       "      <td>58.022098</td>\n",
       "      <td>61.813616</td>\n",
       "      <td>-13.452679</td>\n",
       "      <td>12.895536</td>\n",
       "      <td>118.505134</td>\n",
       "    </tr>\n",
       "  </tbody>\n",
       "</table>\n",
       "</div>"
      ],
      "text/plain": [
       "             left-x      left-y     right-x     right-y      nose-x  \\\n",
       "speaker                                                               \n",
       "man-1    206.248203  218.679449  155.464350  150.371031  175.031756   \n",
       "woman-1  164.661438  161.271242  151.017865  117.332462  162.655120   \n",
       "woman-2  183.214509  176.527232  156.866295  119.835714  170.318973   \n",
       "\n",
       "            nose-y    grnd-ry    grnd-rx    grnd-lx     grnd-ly  \n",
       "speaker                                                          \n",
       "man-1    61.642600  88.728430 -19.567406  31.216447  157.036848  \n",
       "woman-1  57.245098  60.087364 -11.637255   2.006318  104.026144  \n",
       "woman-2  58.022098  61.813616 -13.452679  12.895536  118.505134  "
      ]
     },
     "execution_count": 131,
     "metadata": {},
     "output_type": "execute_result"
    }
   ],
   "source": [
    "df_means = asl.df.groupby('speaker').mean()\n",
    "df_means"
   ]
  },
  {
   "cell_type": "markdown",
   "metadata": {},
   "source": [
    "To select a mean that matches by speaker, use the pandas [map](http://pandas.pydata.org/pandas-docs/stable/generated/pandas.Series.map.html) method:"
   ]
  },
  {
   "cell_type": "code",
   "execution_count": 132,
   "metadata": {},
   "outputs": [
    {
     "data": {
      "text/html": [
       "<div>\n",
       "<style scoped>\n",
       "    .dataframe tbody tr th:only-of-type {\n",
       "        vertical-align: middle;\n",
       "    }\n",
       "\n",
       "    .dataframe tbody tr th {\n",
       "        vertical-align: top;\n",
       "    }\n",
       "\n",
       "    .dataframe thead th {\n",
       "        text-align: right;\n",
       "    }\n",
       "</style>\n",
       "<table border=\"1\" class=\"dataframe\">\n",
       "  <thead>\n",
       "    <tr style=\"text-align: right;\">\n",
       "      <th></th>\n",
       "      <th></th>\n",
       "      <th>left-x</th>\n",
       "      <th>left-y</th>\n",
       "      <th>right-x</th>\n",
       "      <th>right-y</th>\n",
       "      <th>nose-x</th>\n",
       "      <th>nose-y</th>\n",
       "      <th>speaker</th>\n",
       "      <th>grnd-ry</th>\n",
       "      <th>grnd-rx</th>\n",
       "      <th>grnd-lx</th>\n",
       "      <th>grnd-ly</th>\n",
       "      <th>left-x-mean</th>\n",
       "    </tr>\n",
       "    <tr>\n",
       "      <th>video</th>\n",
       "      <th>frame</th>\n",
       "      <th></th>\n",
       "      <th></th>\n",
       "      <th></th>\n",
       "      <th></th>\n",
       "      <th></th>\n",
       "      <th></th>\n",
       "      <th></th>\n",
       "      <th></th>\n",
       "      <th></th>\n",
       "      <th></th>\n",
       "      <th></th>\n",
       "      <th></th>\n",
       "    </tr>\n",
       "  </thead>\n",
       "  <tbody>\n",
       "    <tr>\n",
       "      <th rowspan=\"5\" valign=\"top\">98</th>\n",
       "      <th>0</th>\n",
       "      <td>149</td>\n",
       "      <td>181</td>\n",
       "      <td>170</td>\n",
       "      <td>175</td>\n",
       "      <td>161</td>\n",
       "      <td>62</td>\n",
       "      <td>woman-1</td>\n",
       "      <td>113</td>\n",
       "      <td>9</td>\n",
       "      <td>-12</td>\n",
       "      <td>119</td>\n",
       "      <td>164.661438</td>\n",
       "    </tr>\n",
       "    <tr>\n",
       "      <th>1</th>\n",
       "      <td>149</td>\n",
       "      <td>181</td>\n",
       "      <td>170</td>\n",
       "      <td>175</td>\n",
       "      <td>161</td>\n",
       "      <td>62</td>\n",
       "      <td>woman-1</td>\n",
       "      <td>113</td>\n",
       "      <td>9</td>\n",
       "      <td>-12</td>\n",
       "      <td>119</td>\n",
       "      <td>164.661438</td>\n",
       "    </tr>\n",
       "    <tr>\n",
       "      <th>2</th>\n",
       "      <td>149</td>\n",
       "      <td>181</td>\n",
       "      <td>170</td>\n",
       "      <td>175</td>\n",
       "      <td>161</td>\n",
       "      <td>62</td>\n",
       "      <td>woman-1</td>\n",
       "      <td>113</td>\n",
       "      <td>9</td>\n",
       "      <td>-12</td>\n",
       "      <td>119</td>\n",
       "      <td>164.661438</td>\n",
       "    </tr>\n",
       "    <tr>\n",
       "      <th>3</th>\n",
       "      <td>149</td>\n",
       "      <td>181</td>\n",
       "      <td>170</td>\n",
       "      <td>175</td>\n",
       "      <td>161</td>\n",
       "      <td>62</td>\n",
       "      <td>woman-1</td>\n",
       "      <td>113</td>\n",
       "      <td>9</td>\n",
       "      <td>-12</td>\n",
       "      <td>119</td>\n",
       "      <td>164.661438</td>\n",
       "    </tr>\n",
       "    <tr>\n",
       "      <th>4</th>\n",
       "      <td>149</td>\n",
       "      <td>181</td>\n",
       "      <td>170</td>\n",
       "      <td>175</td>\n",
       "      <td>161</td>\n",
       "      <td>62</td>\n",
       "      <td>woman-1</td>\n",
       "      <td>113</td>\n",
       "      <td>9</td>\n",
       "      <td>-12</td>\n",
       "      <td>119</td>\n",
       "      <td>164.661438</td>\n",
       "    </tr>\n",
       "  </tbody>\n",
       "</table>\n",
       "</div>"
      ],
      "text/plain": [
       "             left-x  left-y  right-x  right-y  nose-x  nose-y  speaker  \\\n",
       "video frame                                                              \n",
       "98    0         149     181      170      175     161      62  woman-1   \n",
       "      1         149     181      170      175     161      62  woman-1   \n",
       "      2         149     181      170      175     161      62  woman-1   \n",
       "      3         149     181      170      175     161      62  woman-1   \n",
       "      4         149     181      170      175     161      62  woman-1   \n",
       "\n",
       "             grnd-ry  grnd-rx  grnd-lx  grnd-ly  left-x-mean  \n",
       "video frame                                                   \n",
       "98    0          113        9      -12      119   164.661438  \n",
       "      1          113        9      -12      119   164.661438  \n",
       "      2          113        9      -12      119   164.661438  \n",
       "      3          113        9      -12      119   164.661438  \n",
       "      4          113        9      -12      119   164.661438  "
      ]
     },
     "execution_count": 132,
     "metadata": {},
     "output_type": "execute_result"
    }
   ],
   "source": [
    "asl.df['left-x-mean']= asl.df['speaker'].map(df_means['left-x'])\n",
    "asl.df.head()"
   ]
  },
  {
   "cell_type": "markdown",
   "metadata": {},
   "source": [
    "##### Try it!"
   ]
  },
  {
   "cell_type": "code",
   "execution_count": 133,
   "metadata": {},
   "outputs": [
    {
     "name": "stdout",
     "output_type": "stream",
     "text": [
      "df_std\n"
     ]
    },
    {
     "data": {
      "text/html": [
       "<div>\n",
       "<style scoped>\n",
       "    .dataframe tbody tr th:only-of-type {\n",
       "        vertical-align: middle;\n",
       "    }\n",
       "\n",
       "    .dataframe tbody tr th {\n",
       "        vertical-align: top;\n",
       "    }\n",
       "\n",
       "    .dataframe thead th {\n",
       "        text-align: right;\n",
       "    }\n",
       "</style>\n",
       "<table border=\"1\" class=\"dataframe\">\n",
       "  <thead>\n",
       "    <tr style=\"text-align: right;\">\n",
       "      <th></th>\n",
       "      <th>left-x</th>\n",
       "      <th>left-y</th>\n",
       "      <th>right-x</th>\n",
       "      <th>right-y</th>\n",
       "      <th>nose-x</th>\n",
       "      <th>nose-y</th>\n",
       "      <th>grnd-ry</th>\n",
       "      <th>grnd-rx</th>\n",
       "      <th>grnd-lx</th>\n",
       "      <th>grnd-ly</th>\n",
       "      <th>left-x-mean</th>\n",
       "    </tr>\n",
       "    <tr>\n",
       "      <th>speaker</th>\n",
       "      <th></th>\n",
       "      <th></th>\n",
       "      <th></th>\n",
       "      <th></th>\n",
       "      <th></th>\n",
       "      <th></th>\n",
       "      <th></th>\n",
       "      <th></th>\n",
       "      <th></th>\n",
       "      <th></th>\n",
       "      <th></th>\n",
       "    </tr>\n",
       "  </thead>\n",
       "  <tbody>\n",
       "    <tr>\n",
       "      <th>man-1</th>\n",
       "      <td>15.154425</td>\n",
       "      <td>36.328485</td>\n",
       "      <td>18.901917</td>\n",
       "      <td>54.902340</td>\n",
       "      <td>6.654573</td>\n",
       "      <td>5.520045</td>\n",
       "      <td>53.487999</td>\n",
       "      <td>20.269032</td>\n",
       "      <td>15.080360</td>\n",
       "      <td>36.572749</td>\n",
       "      <td>0.0</td>\n",
       "    </tr>\n",
       "    <tr>\n",
       "      <th>woman-1</th>\n",
       "      <td>17.573442</td>\n",
       "      <td>26.594521</td>\n",
       "      <td>16.459943</td>\n",
       "      <td>34.667787</td>\n",
       "      <td>3.549392</td>\n",
       "      <td>3.538330</td>\n",
       "      <td>33.972660</td>\n",
       "      <td>16.764706</td>\n",
       "      <td>17.328941</td>\n",
       "      <td>27.117393</td>\n",
       "      <td>0.0</td>\n",
       "    </tr>\n",
       "    <tr>\n",
       "      <th>woman-2</th>\n",
       "      <td>15.388711</td>\n",
       "      <td>28.825025</td>\n",
       "      <td>14.890288</td>\n",
       "      <td>39.649111</td>\n",
       "      <td>4.099760</td>\n",
       "      <td>3.416167</td>\n",
       "      <td>39.128572</td>\n",
       "      <td>16.191324</td>\n",
       "      <td>15.050938</td>\n",
       "      <td>29.320655</td>\n",
       "      <td>0.0</td>\n",
       "    </tr>\n",
       "  </tbody>\n",
       "</table>\n",
       "</div>"
      ],
      "text/plain": [
       "            left-x     left-y    right-x    right-y    nose-x    nose-y  \\\n",
       "speaker                                                                   \n",
       "man-1    15.154425  36.328485  18.901917  54.902340  6.654573  5.520045   \n",
       "woman-1  17.573442  26.594521  16.459943  34.667787  3.549392  3.538330   \n",
       "woman-2  15.388711  28.825025  14.890288  39.649111  4.099760  3.416167   \n",
       "\n",
       "           grnd-ry    grnd-rx    grnd-lx    grnd-ly  left-x-mean  \n",
       "speaker                                                           \n",
       "man-1    53.487999  20.269032  15.080360  36.572749          0.0  \n",
       "woman-1  33.972660  16.764706  17.328941  27.117393          0.0  \n",
       "woman-2  39.128572  16.191324  15.050938  29.320655          0.0  "
      ]
     },
     "metadata": {},
     "output_type": "display_data"
    },
    {
     "data": {
      "text/html": [
       "<font color=green>Correct!</font><br/>"
      ],
      "text/plain": [
       "<IPython.core.display.HTML object>"
      ]
     },
     "execution_count": 133,
     "metadata": {},
     "output_type": "execute_result"
    }
   ],
   "source": [
    "from asl_utils import test_std_tryit\n",
    "# TODO Create a dataframe named `df_std` with standard deviations grouped by speaker\n",
    "df_std = asl.df.groupby('speaker').std()\n",
    "# test the code\n",
    "test_std_tryit(df_std)"
   ]
  },
  {
   "cell_type": "markdown",
   "metadata": {},
   "source": [
    "<a id='part1_submission'></a>\n",
    "### Features Implementation Submission\n",
    "Implement four feature sets and answer the question that follows.\n",
    "- normalized Cartesian coordinates\n",
    "    - use *mean* and *standard deviation* statistics and the [standard score](https://en.wikipedia.org/wiki/Standard_score) equation to account for speakers with different heights and arm length\n",
    "    \n",
    "- polar coordinates\n",
    "    - calculate polar coordinates with [Cartesian to polar equations](https://en.wikipedia.org/wiki/Polar_coordinate_system#Converting_between_polar_and_Cartesian_coordinates)\n",
    "    - use the [np.arctan2](https://docs.scipy.org/doc/numpy-1.10.0/reference/generated/numpy.arctan2.html) function and *swap the x and y axes* to move the $0$ to $2\\pi$ discontinuity to 12 o'clock instead of 3 o'clock;  in other words, the normal break in radians value from $0$ to $2\\pi$ occurs directly to the left of the speaker's nose, which may be in the signing area and interfere with results.  By swapping the x and y axes, that discontinuity move to directly above the speaker's head, an area not generally used in signing.\n",
    "\n",
    "- delta difference\n",
    "    - as described in Thad's lecture, use the difference in values between one frame and the next frames as features\n",
    "    - pandas [diff method](http://pandas.pydata.org/pandas-docs/stable/generated/pandas.DataFrame.diff.html) and [fillna method](http://pandas.pydata.org/pandas-docs/stable/generated/pandas.DataFrame.fillna.html) will be helpful for this one\n",
    "\n",
    "- custom features\n",
    "    - These are your own design; combine techniques used above or come up with something else entirely. We look forward to seeing what you come up with! \n",
    "    Some ideas to get you started:\n",
    "        - normalize using a [feature scaling equation](https://en.wikipedia.org/wiki/Feature_scaling)\n",
    "        - normalize the polar coordinates\n",
    "        - adding additional deltas\n"
   ]
  },
  {
   "cell_type": "code",
   "execution_count": 134,
   "metadata": {},
   "outputs": [],
   "source": [
    "# TODO add features for normalized by speaker values of left, right, x, y\n",
    "# Name these 'norm-rx', 'norm-ry', 'norm-lx', and 'norm-ly'\n",
    "# using Z-score scaling (X-Xmean)/Xstd\n",
    "\n",
    "#features_norm = ['norm-rx', 'norm-ry', 'norm-lx','norm-ly']\n",
    "\n",
    "asl.df['norm-rx']= (asl.df['right-x']-asl.df['speaker'].map(df_means['right-x']))/(asl.df['speaker'].map(df_std['right-x']))\n",
    "asl.df['norm-ry']= (asl.df['right-y']-asl.df['speaker'].map(df_means['right-y']))/(asl.df['speaker'].map(df_std['right-y']))\n",
    "asl.df['norm-lx']= (asl.df['left-x']-asl.df['speaker'].map(df_means['left-x']))/(asl.df['speaker'].map(df_std['left-x']))\n",
    "\n",
    "asl.df['norm-ly']=(asl.df['left-y']-asl.df['speaker'].map(df_means['left-y']))/(asl.df['speaker'].map(df_std['left-y']))\n",
    "features_norm = ['norm-rx', 'norm-ry', 'norm-lx','norm-ly']\n",
    "\n"
   ]
  },
  {
   "cell_type": "code",
   "execution_count": 135,
   "metadata": {},
   "outputs": [],
   "source": [
    "# TODO add features for polar coordinate values where the nose is the origin\n",
    "# Name these 'polar-rr', 'polar-rtheta', 'polar-lr', and 'polar-ltheta'\n",
    "# Note that 'polar-rr' and 'polar-rtheta' refer to the radius and angle\n",
    "\n",
    "asl.df['polar-rr'] = np.sqrt(np.square(asl.df['grnd-rx']) + np.square(asl.df['grnd-ry']))\n",
    "asl.df['polar-rtheta'] = np.arctan2(asl.df['grnd-rx'],asl.df['grnd-ry'])\n",
    "asl.df['polar-lr'] = np.sqrt(np.square(asl.df['grnd-lx']) + np.square(asl.df['grnd-ly']))\n",
    "asl.df['polar-ltheta'] = np.arctan2(asl.df['grnd-lx'],asl.df['grnd-ly'])\n",
    "features_polar = ['polar-rr', 'polar-rtheta', 'polar-lr', 'polar-ltheta']\n",
    "\n"
   ]
  },
  {
   "cell_type": "code",
   "execution_count": 148,
   "metadata": {},
   "outputs": [
    {
     "data": {
      "text/html": [
       "<div>\n",
       "<style scoped>\n",
       "    .dataframe tbody tr th:only-of-type {\n",
       "        vertical-align: middle;\n",
       "    }\n",
       "\n",
       "    .dataframe tbody tr th {\n",
       "        vertical-align: top;\n",
       "    }\n",
       "\n",
       "    .dataframe thead th {\n",
       "        text-align: right;\n",
       "    }\n",
       "</style>\n",
       "<table border=\"1\" class=\"dataframe\">\n",
       "  <thead>\n",
       "    <tr style=\"text-align: right;\">\n",
       "      <th></th>\n",
       "      <th></th>\n",
       "      <th>left-x</th>\n",
       "      <th>left-y</th>\n",
       "      <th>right-x</th>\n",
       "      <th>right-y</th>\n",
       "      <th>nose-x</th>\n",
       "      <th>nose-y</th>\n",
       "      <th>speaker</th>\n",
       "      <th>grnd-ry</th>\n",
       "      <th>grnd-rx</th>\n",
       "      <th>grnd-lx</th>\n",
       "      <th>...</th>\n",
       "      <th>norm-lx</th>\n",
       "      <th>norm-ly</th>\n",
       "      <th>polar-rr</th>\n",
       "      <th>polar-rtheta</th>\n",
       "      <th>polar-lr</th>\n",
       "      <th>polar-ltheta</th>\n",
       "      <th>delta-rx</th>\n",
       "      <th>delta-ry</th>\n",
       "      <th>delta-lx</th>\n",
       "      <th>delta-ly</th>\n",
       "    </tr>\n",
       "    <tr>\n",
       "      <th>video</th>\n",
       "      <th>frame</th>\n",
       "      <th></th>\n",
       "      <th></th>\n",
       "      <th></th>\n",
       "      <th></th>\n",
       "      <th></th>\n",
       "      <th></th>\n",
       "      <th></th>\n",
       "      <th></th>\n",
       "      <th></th>\n",
       "      <th></th>\n",
       "      <th></th>\n",
       "      <th></th>\n",
       "      <th></th>\n",
       "      <th></th>\n",
       "      <th></th>\n",
       "      <th></th>\n",
       "      <th></th>\n",
       "      <th></th>\n",
       "      <th></th>\n",
       "      <th></th>\n",
       "      <th></th>\n",
       "    </tr>\n",
       "  </thead>\n",
       "  <tbody>\n",
       "    <tr>\n",
       "      <th rowspan=\"5\" valign=\"top\">98</th>\n",
       "      <th>0</th>\n",
       "      <td>149</td>\n",
       "      <td>181</td>\n",
       "      <td>170</td>\n",
       "      <td>175</td>\n",
       "      <td>161</td>\n",
       "      <td>62</td>\n",
       "      <td>woman-1</td>\n",
       "      <td>113</td>\n",
       "      <td>9</td>\n",
       "      <td>-12</td>\n",
       "      <td>...</td>\n",
       "      <td>-0.891199</td>\n",
       "      <td>0.741835</td>\n",
       "      <td>113.35784</td>\n",
       "      <td>0.079478</td>\n",
       "      <td>119.603512</td>\n",
       "      <td>-0.100501</td>\n",
       "      <td>0.0</td>\n",
       "      <td>0.0</td>\n",
       "      <td>0.0</td>\n",
       "      <td>0.0</td>\n",
       "    </tr>\n",
       "    <tr>\n",
       "      <th>1</th>\n",
       "      <td>149</td>\n",
       "      <td>181</td>\n",
       "      <td>170</td>\n",
       "      <td>175</td>\n",
       "      <td>161</td>\n",
       "      <td>62</td>\n",
       "      <td>woman-1</td>\n",
       "      <td>113</td>\n",
       "      <td>9</td>\n",
       "      <td>-12</td>\n",
       "      <td>...</td>\n",
       "      <td>-0.891199</td>\n",
       "      <td>0.741835</td>\n",
       "      <td>113.35784</td>\n",
       "      <td>0.079478</td>\n",
       "      <td>119.603512</td>\n",
       "      <td>-0.100501</td>\n",
       "      <td>0.0</td>\n",
       "      <td>0.0</td>\n",
       "      <td>0.0</td>\n",
       "      <td>0.0</td>\n",
       "    </tr>\n",
       "    <tr>\n",
       "      <th>2</th>\n",
       "      <td>149</td>\n",
       "      <td>181</td>\n",
       "      <td>170</td>\n",
       "      <td>175</td>\n",
       "      <td>161</td>\n",
       "      <td>62</td>\n",
       "      <td>woman-1</td>\n",
       "      <td>113</td>\n",
       "      <td>9</td>\n",
       "      <td>-12</td>\n",
       "      <td>...</td>\n",
       "      <td>-0.891199</td>\n",
       "      <td>0.741835</td>\n",
       "      <td>113.35784</td>\n",
       "      <td>0.079478</td>\n",
       "      <td>119.603512</td>\n",
       "      <td>-0.100501</td>\n",
       "      <td>0.0</td>\n",
       "      <td>0.0</td>\n",
       "      <td>0.0</td>\n",
       "      <td>0.0</td>\n",
       "    </tr>\n",
       "    <tr>\n",
       "      <th>3</th>\n",
       "      <td>149</td>\n",
       "      <td>181</td>\n",
       "      <td>170</td>\n",
       "      <td>175</td>\n",
       "      <td>161</td>\n",
       "      <td>62</td>\n",
       "      <td>woman-1</td>\n",
       "      <td>113</td>\n",
       "      <td>9</td>\n",
       "      <td>-12</td>\n",
       "      <td>...</td>\n",
       "      <td>-0.891199</td>\n",
       "      <td>0.741835</td>\n",
       "      <td>113.35784</td>\n",
       "      <td>0.079478</td>\n",
       "      <td>119.603512</td>\n",
       "      <td>-0.100501</td>\n",
       "      <td>0.0</td>\n",
       "      <td>0.0</td>\n",
       "      <td>0.0</td>\n",
       "      <td>0.0</td>\n",
       "    </tr>\n",
       "    <tr>\n",
       "      <th>4</th>\n",
       "      <td>149</td>\n",
       "      <td>181</td>\n",
       "      <td>170</td>\n",
       "      <td>175</td>\n",
       "      <td>161</td>\n",
       "      <td>62</td>\n",
       "      <td>woman-1</td>\n",
       "      <td>113</td>\n",
       "      <td>9</td>\n",
       "      <td>-12</td>\n",
       "      <td>...</td>\n",
       "      <td>-0.891199</td>\n",
       "      <td>0.741835</td>\n",
       "      <td>113.35784</td>\n",
       "      <td>0.079478</td>\n",
       "      <td>119.603512</td>\n",
       "      <td>-0.100501</td>\n",
       "      <td>0.0</td>\n",
       "      <td>0.0</td>\n",
       "      <td>0.0</td>\n",
       "      <td>0.0</td>\n",
       "    </tr>\n",
       "  </tbody>\n",
       "</table>\n",
       "<p>5 rows × 24 columns</p>\n",
       "</div>"
      ],
      "text/plain": [
       "             left-x  left-y  right-x  right-y  nose-x  nose-y  speaker  \\\n",
       "video frame                                                              \n",
       "98    0         149     181      170      175     161      62  woman-1   \n",
       "      1         149     181      170      175     161      62  woman-1   \n",
       "      2         149     181      170      175     161      62  woman-1   \n",
       "      3         149     181      170      175     161      62  woman-1   \n",
       "      4         149     181      170      175     161      62  woman-1   \n",
       "\n",
       "             grnd-ry  grnd-rx  grnd-lx    ...      norm-lx   norm-ly  \\\n",
       "video frame                               ...                          \n",
       "98    0          113        9      -12    ...    -0.891199  0.741835   \n",
       "      1          113        9      -12    ...    -0.891199  0.741835   \n",
       "      2          113        9      -12    ...    -0.891199  0.741835   \n",
       "      3          113        9      -12    ...    -0.891199  0.741835   \n",
       "      4          113        9      -12    ...    -0.891199  0.741835   \n",
       "\n",
       "              polar-rr  polar-rtheta    polar-lr  polar-ltheta  delta-rx  \\\n",
       "video frame                                                                \n",
       "98    0      113.35784      0.079478  119.603512     -0.100501       0.0   \n",
       "      1      113.35784      0.079478  119.603512     -0.100501       0.0   \n",
       "      2      113.35784      0.079478  119.603512     -0.100501       0.0   \n",
       "      3      113.35784      0.079478  119.603512     -0.100501       0.0   \n",
       "      4      113.35784      0.079478  119.603512     -0.100501       0.0   \n",
       "\n",
       "             delta-ry  delta-lx  delta-ly  \n",
       "video frame                                \n",
       "98    0           0.0       0.0       0.0  \n",
       "      1           0.0       0.0       0.0  \n",
       "      2           0.0       0.0       0.0  \n",
       "      3           0.0       0.0       0.0  \n",
       "      4           0.0       0.0       0.0  \n",
       "\n",
       "[5 rows x 24 columns]"
      ]
     },
     "execution_count": 148,
     "metadata": {},
     "output_type": "execute_result"
    }
   ],
   "source": [
    "# TODO add features for left, right, x, y differences by one time step, i.e. the \"delta\" values discussed in the lecture\n",
    "# Name these 'delta-rx', 'delta-ry', 'delta-lx', and 'delta-ly'\n",
    "\n",
    "asl.df['delta-rx']= asl.df['right-x'].diff().fillna(0)\n",
    "asl.df['delta-ry']= asl.df['right-y'].diff().fillna(0)\n",
    "asl.df['delta-lx']= asl.df['left-x'].diff().fillna(0)\n",
    "asl.df['delta-ly']= asl.df['left-y'].diff().fillna(0)\n",
    "\n",
    "features_delta = ['delta-rx', 'delta-ry', 'delta-lx', 'delta-ly']\n",
    "\n",
    "asl.df.head()"
   ]
  },
  {
   "cell_type": "code",
   "execution_count": 152,
   "metadata": {},
   "outputs": [],
   "source": [
    "# TODO add features of your own design, which may be a combination of the above or something else\n",
    "# Name these whatever you would like\n",
    "# TODO define a list named 'features_custom' for building the training set\n",
    "#features_custom = ['delta-rx', 'delta-ry', 'delta-lx', 'delta-ly','polar-rr', 'polar-rtheta', 'polar-lr', 'polar-ltheta']\n",
    "\n",
    "#asl.df['custom-1'] = asl.df.groupby('speaker').pct_change()\n",
    "\n",
    "df_diff = asl.df.groupby('speaker').pct_change().fillna(0)\n",
    "features_custom = [df_diff]\n"
   ]
  },
  {
   "cell_type": "markdown",
   "metadata": {},
   "source": [
    "**Question 1:**  What custom features did you choose for the features_custom set and why?\n",
    "\n",
    "**Answer 1:**\n",
    "\n",
    "I chose to find the percentage of change between frames.\n",
    "From this percentage it is possible to estimate with greater precision the movement\n",
    "of the speaker and consequently define the word in the video."
   ]
  },
  {
   "cell_type": "markdown",
   "metadata": {},
   "source": [
    "<a id='part1_test'></a>\n",
    "### Features Unit Testing\n",
    "Run the following unit tests as a sanity check on the defined \"ground\", \"norm\", \"polar\", and 'delta\"\n",
    "feature sets.  The test simply looks for some valid values but is not exhaustive.  However, the project should not be submitted if these tests don't pass."
   ]
  },
  {
   "cell_type": "code",
   "execution_count": 151,
   "metadata": {},
   "outputs": [
    {
     "name": "stderr",
     "output_type": "stream",
     "text": [
      "....\n",
      "----------------------------------------------------------------------\n",
      "Ran 4 tests in 0.013s\n",
      "\n",
      "OK\n"
     ]
    },
    {
     "data": {
      "text/plain": [
       "<unittest.runner.TextTestResult run=4 errors=0 failures=0>"
      ]
     },
     "execution_count": 151,
     "metadata": {},
     "output_type": "execute_result"
    }
   ],
   "source": [
    "import unittest\n",
    "# import numpy as np\n",
    "\n",
    "class TestFeatures(unittest.TestCase):\n",
    "\n",
    "    def test_features_ground(self):\n",
    "        sample = (asl.df.ix[98, 1][features_ground]).tolist()\n",
    "        self.assertEqual(sample, [9, 113, -12, 119])\n",
    "\n",
    "    def test_features_norm(self):\n",
    "        sample = (asl.df.ix[98, 1][features_norm]).tolist()\n",
    "        np.testing.assert_almost_equal(sample, [ 1.153,  1.663, -0.891,  0.742], 3)\n",
    "\n",
    "    def test_features_polar(self):\n",
    "        sample = (asl.df.ix[98,1][features_polar]).tolist()\n",
    "        np.testing.assert_almost_equal(sample, [113.3578, 0.0794, 119.603, -0.1005], 3)\n",
    "\n",
    "    def test_features_delta(self):\n",
    "        sample = (asl.df.ix[98, 0][features_delta]).tolist()\n",
    "        self.assertEqual(sample, [0, 0, 0, 0])\n",
    "        sample = (asl.df.ix[98, 18][features_delta]).tolist()\n",
    "        self.assertTrue(sample in [[-16, -5, -2, 4], [-14, -9, 0, 0]], \"Sample value found was {}\".format(sample))\n",
    "                         \n",
    "suite = unittest.TestLoader().loadTestsFromModule(TestFeatures())\n",
    "unittest.TextTestRunner().run(suite)"
   ]
  },
  {
   "cell_type": "markdown",
   "metadata": {},
   "source": [
    "<a id='part2_tutorial'></a>\n",
    "## PART 2: Model Selection\n",
    "### Model Selection Tutorial\n",
    "The objective of Model Selection is to tune the number of states for each word HMM prior to testing on unseen data.  In this section you will explore three methods: \n",
    "- Log likelihood using cross-validation folds (CV)\n",
    "- Bayesian Information Criterion (BIC)\n",
    "- Discriminative Information Criterion (DIC) "
   ]
  },
  {
   "cell_type": "markdown",
   "metadata": {},
   "source": [
    "##### Train a single word\n",
    "Now that we have built a training set with sequence data, we can \"train\" models for each word.  As a simple starting example, we train a single word using Gaussian hidden Markov models (HMM).   By using the `fit` method during training, the [Baum-Welch Expectation-Maximization](https://en.wikipedia.org/wiki/Baum%E2%80%93Welch_algorithm) (EM) algorithm is invoked iteratively to find the best estimate for the model *for the number of hidden states specified* from a group of sample seequences. For this example, we *assume* the correct number of hidden states is 3, but that is just a guess.  How do we know what the \"best\" number of states for training is?  We will need to find some model selection technique to choose the best parameter."
   ]
  },
  {
   "cell_type": "code",
   "execution_count": 16,
   "metadata": {},
   "outputs": [
    {
     "name": "stdout",
     "output_type": "stream",
     "text": [
      "Number of states trained in model for BOOK is 3\n",
      "logL = -2331.1138127433205\n"
     ]
    }
   ],
   "source": [
    "import warnings\n",
    "from hmmlearn.hmm import GaussianHMM\n",
    "\n",
    "def train_a_word(word, num_hidden_states, features):\n",
    "    \n",
    "    warnings.filterwarnings(\"ignore\", category=DeprecationWarning)\n",
    "    training = asl.build_training(features)  \n",
    "    X, lengths = training.get_word_Xlengths(word)\n",
    "    model = GaussianHMM(n_components=num_hidden_states, n_iter=1000).fit(X, lengths)\n",
    "    logL = model.score(X, lengths)\n",
    "    return model, logL\n",
    "\n",
    "demoword = 'BOOK'\n",
    "model, logL = train_a_word(demoword, 3, features_ground)\n",
    "print(\"Number of states trained in model for {} is {}\".format(demoword, model.n_components))\n",
    "print(\"logL = {}\".format(logL))"
   ]
  },
  {
   "cell_type": "markdown",
   "metadata": {},
   "source": [
    "The HMM model has been trained and information can be pulled from the model, including means and variances for each feature and hidden state.  The [log likelihood](http://math.stackexchange.com/questions/892832/why-we-consider-log-likelihood-instead-of-likelihood-in-gaussian-distribution) for any individual sample or group of samples can also be calculated with the `score` method."
   ]
  },
  {
   "cell_type": "code",
   "execution_count": 17,
   "metadata": {},
   "outputs": [
    {
     "name": "stdout",
     "output_type": "stream",
     "text": [
      "Number of states trained in model for BOOK is 3\n",
      "hidden state #0\n",
      "mean =  [-3.46504869 50.66686933 14.02391587 52.04731066]\n",
      "variance =  [49.12346305 43.04799144 39.35109609 47.24195772]\n",
      "\n",
      "hidden state #1\n",
      "mean =  [-11.45300909  94.109178    19.03512475 102.2030162 ]\n",
      "variance =  [ 77.403668   203.35441965  26.68898447 156.12444034]\n",
      "\n",
      "hidden state #2\n",
      "mean =  [-1.12415027 69.44164191 17.02866283 77.7231196 ]\n",
      "variance =  [19.70434594 16.83041492 30.51552305 11.03678246]\n",
      "\n"
     ]
    }
   ],
   "source": [
    "def show_model_stats(word, model):\n",
    "    print(\"Number of states trained in model for {} is {}\".format(word, model.n_components))    \n",
    "    variance=np.array([np.diag(model.covars_[i]) for i in range(model.n_components)])    \n",
    "    for i in range(model.n_components):  # for each hidden state\n",
    "        print(\"hidden state #{}\".format(i))\n",
    "        print(\"mean = \", model.means_[i])\n",
    "        print(\"variance = \", variance[i])\n",
    "        print()\n",
    "    \n",
    "show_model_stats(demoword, model)"
   ]
  },
  {
   "cell_type": "markdown",
   "metadata": {},
   "source": [
    "##### Try it!\n",
    "Experiment by changing the feature set, word, and/or num_hidden_states values in the next cell to see changes in values.  "
   ]
  },
  {
   "cell_type": "code",
   "execution_count": 18,
   "metadata": {},
   "outputs": [
    {
     "name": "stdout",
     "output_type": "stream",
     "text": [
      "Number of states trained in model for CHOCOLATE is 5\n",
      "hidden state #0\n",
      "mean =  [  3.32089022  86.11784619  12.66977977 102.36987409]\n",
      "variance =  [12.48273231  7.43528515 12.86407411 24.73804616]\n",
      "\n",
      "hidden state #1\n",
      "mean =  [-4.93673736 64.73126904  1.62601029 84.91542811]\n",
      "variance =  [ 6.16147276 28.36727822  5.4706657  13.12675543]\n",
      "\n",
      "hidden state #2\n",
      "mean =  [ -7.70665738  93.36393433  12.99292645 127.06351815]\n",
      "variance =  [29.53966949 13.52107768  0.66764483 48.4385572 ]\n",
      "\n",
      "hidden state #3\n",
      "mean =  [ -6.37753172  51.09767101   3.64019095 104.46455217]\n",
      "variance =  [ 10.28279876  12.43850367  27.33782827 106.89825397]\n",
      "\n",
      "hidden state #4\n",
      "mean =  [-9.23826304 55.30740641  6.92298855 71.30558162]\n",
      "variance =  [16.30897315 45.96991798  3.76848558 15.98402053]\n",
      "\n",
      "logL = -544.2490114712293\n"
     ]
    }
   ],
   "source": [
    "my_testword = 'CHOCOLATE'\n",
    "model, logL = train_a_word(my_testword, 5, features_ground) # Experiment here with different parameters\n",
    "show_model_stats(my_testword, model)\n",
    "print(\"logL = {}\".format(logL))"
   ]
  },
  {
   "cell_type": "markdown",
   "metadata": {},
   "source": [
    "##### Visualize the hidden states\n",
    "We can plot the means and variances for each state and feature.  Try varying the number of states trained for the HMM model and examine the variances.  Are there some models that are \"better\" than others?  How can you tell?  We would like to hear what you think in the classroom online."
   ]
  },
  {
   "cell_type": "code",
   "execution_count": 19,
   "metadata": {},
   "outputs": [],
   "source": [
    "%matplotlib inline"
   ]
  },
  {
   "cell_type": "code",
   "execution_count": 20,
   "metadata": {},
   "outputs": [
    {
     "data": {
      "image/png": "[encoded data removed]",
      "text/plain": [
       "<matplotlib.figure.Figure at 0x1a15917cf8>"
      ]
     },
     "metadata": {},
     "output_type": "display_data"
    },
    {
     "data": {
      "image/png": "[encoded data removed]",
      "text/plain": [
       "<matplotlib.figure.Figure at 0x1a15a02a90>"
      ]
     },
     "metadata": {},
     "output_type": "display_data"
    },
    {
     "data": {
      "image/png": "[encoded data removed]",
      "text/plain": [
       "<matplotlib.figure.Figure at 0x1a15ac4710>"
      ]
     },
     "metadata": {},
     "output_type": "display_data"
    },
    {
     "data": {
      "image/png": "[encoded data removed]",
      "text/plain": [
       "<matplotlib.figure.Figure at 0x1a15b79e10>"
      ]
     },
     "metadata": {},
     "output_type": "display_data"
    }
   ],
   "source": [
    "import math\n",
    "from matplotlib import (cm, pyplot as plt, mlab)\n",
    "\n",
    "def visualize(word, model):\n",
    "    \"\"\" visualize the input model for a particular word \"\"\"\n",
    "    variance=np.array([np.diag(model.covars_[i]) for i in range(model.n_components)])\n",
    "    figures = []\n",
    "    for parm_idx in range(len(model.means_[0])):\n",
    "        xmin = int(min(model.means_[:,parm_idx]) - max(variance[:,parm_idx]))\n",
    "        xmax = int(max(model.means_[:,parm_idx]) + max(variance[:,parm_idx]))\n",
    "        fig, axs = plt.subplots(model.n_components, sharex=True, sharey=False)\n",
    "        colours = cm.rainbow(np.linspace(0, 1, model.n_components))\n",
    "        for i, (ax, colour) in enumerate(zip(axs, colours)):\n",
    "            x = np.linspace(xmin, xmax, 100)\n",
    "            mu = model.means_[i,parm_idx]\n",
    "            sigma = math.sqrt(np.diag(model.covars_[i])[parm_idx])\n",
    "            ax.plot(x, mlab.normpdf(x, mu, sigma), c=colour)\n",
    "            ax.set_title(\"{} feature {} hidden state #{}\".format(word, parm_idx, i))\n",
    "\n",
    "            ax.grid(True)\n",
    "        figures.append(plt)\n",
    "    for p in figures:\n",
    "        p.show()\n",
    "        \n",
    "visualize(my_testword, model)"
   ]
  },
  {
   "cell_type": "markdown",
   "metadata": {},
   "source": [
    "#####  ModelSelector class\n",
    "Review the `ModelSelector` class from the codebase found in the `my_model_selectors.py` module.  It is designed to be a strategy pattern for choosing different model selectors.  For the project submission in this section, subclass `SelectorModel` to implement the following model selectors.  In other words, you will write your own classes/functions in the `my_model_selectors.py` module and run them from this notebook:\n",
    "\n",
    "- `SelectorCV `:  Log likelihood with CV\n",
    "- `SelectorBIC`: BIC \n",
    "- `SelectorDIC`: DIC\n",
    "\n",
    "You will train each word in the training set with a range of values for the number of hidden states, and then score these alternatives with the model selector, choosing the \"best\" according to each strategy. The simple case of training with a constant value for `n_components` can be called using the provided `SelectorConstant` subclass as follow:"
   ]
  },
  {
   "cell_type": "code",
   "execution_count": 21,
   "metadata": {},
   "outputs": [
    {
     "name": "stdout",
     "output_type": "stream",
     "text": [
      "Number of states trained in model for VEGETABLE is 3\n"
     ]
    }
   ],
   "source": [
    "from my_model_selectors import SelectorConstant\n",
    "\n",
    "training = asl.build_training(features_ground)  # Experiment here with different feature sets defined in part 1\n",
    "word = 'VEGETABLE' # Experiment here with different words\n",
    "model = SelectorConstant(training.get_all_sequences(), training.get_all_Xlengths(), word, n_constant=3).select()\n",
    "print(\"Number of states trained in model for {} is {}\".format(word, model.n_components))"
   ]
  },
  {
   "cell_type": "markdown",
   "metadata": {},
   "source": [
    "##### Cross-validation folds\n",
    "If we simply score the model with the Log Likelihood calculated from the feature sequences it has been trained on, we should expect that more complex models will have higher likelihoods. However, that doesn't tell us which would have a better likelihood score on unseen data.  The model will likely be overfit as complexity is added.  To estimate which topology model is better using only the training data, we can compare scores using cross-validation.  One technique for cross-validation is to break the training set into \"folds\" and rotate which fold is left out of training.  The \"left out\" fold scored.  This gives us a proxy method of finding the best model to use on \"unseen data\". In the following example, a set of word sequences is broken into three folds using the [scikit-learn Kfold](http://scikit-learn.org/stable/modules/generated/sklearn.model_selection.KFold.html) class object. When you implement `SelectorCV`, you will use this technique."
   ]
  },
  {
   "cell_type": "code",
   "execution_count": 22,
   "metadata": {},
   "outputs": [
    {
     "name": "stdout",
     "output_type": "stream",
     "text": [
      "Train fold indices:[1 2] Test fold indices:[0]\n",
      "Train fold indices:[0 2] Test fold indices:[1]\n",
      "Train fold indices:[0 1] Test fold indices:[2]\n"
     ]
    }
   ],
   "source": [
    "from sklearn.model_selection import KFold\n",
    "\n",
    "training = asl.build_training(features_ground) # Experiment here with different feature sets\n",
    "word = 'CHOCOLATE' # Experiment here with different words\n",
    "word_sequences = training.get_word_sequences(word)\n",
    "split_method = KFold()\n",
    "for cv_train_idx, cv_test_idx in split_method.split(word_sequences):\n",
    "    print(\"Train fold indices:{} Test fold indices:{}\".format(cv_train_idx, cv_test_idx))  # view indices of the folds"
   ]
  },
  {
   "cell_type": "markdown",
   "metadata": {},
   "source": [
    "**Tip:** In order to run `hmmlearn` training using the X,lengths tuples on the new folds, subsets must be combined based on the indices given for the folds.  A helper utility has been provided in the `asl_utils` module named `combine_sequences` for this purpose."
   ]
  },
  {
   "cell_type": "markdown",
   "metadata": {},
   "source": [
    "##### Scoring models with other criterion\n",
    "Scoring model topologies with **BIC** balances fit and complexity within the training set for each word.  In the BIC equation, a penalty term penalizes complexity to avoid overfitting, so that it is not necessary to also use cross-validation in the selection process.  There are a number of references on the internet for this criterion.  These [slides](http://www2.imm.dtu.dk/courses/02433/doc/ch6_slides.pdf) include a formula you may find helpful for your implementation.\n",
    "\n",
    "The advantages of scoring model topologies with **DIC** over BIC are presented by Alain Biem in this [reference](http://citeseerx.ist.psu.edu/viewdoc/download?doi=10.1.1.58.6208&rep=rep1&type=pdf) (also found [here](https://pdfs.semanticscholar.org/ed3d/7c4a5f607201f3848d4c02dd9ba17c791fc2.pdf)).  DIC scores the discriminant ability of a training set for one word against competing words.  Instead of a penalty term for complexity, it provides a penalty if model liklihoods for non-matching words are too similar to model likelihoods for the correct word in the word set."
   ]
  },
  {
   "cell_type": "markdown",
   "metadata": {},
   "source": [
    "<a id='part2_submission'></a>\n",
    "### Model Selection Implementation Submission\n",
    "Implement `SelectorCV`, `SelectorBIC`, and `SelectorDIC` classes in the `my_model_selectors.py` module.  Run the selectors on the following five words. Then answer the questions about your results.\n",
    "\n",
    "**Tip:** The `hmmlearn` library may not be able to train or score all models.  Implement try/except contructs as necessary to eliminate non-viable models from consideration."
   ]
  },
  {
   "cell_type": "code",
   "execution_count": 23,
   "metadata": {},
   "outputs": [],
   "source": [
    "words_to_train = ['FISH', 'BOOK', 'VEGETABLE', 'FUTURE', 'JOHN']\n",
    "import timeit"
   ]
  },
  {
   "cell_type": "code",
   "execution_count": 24,
   "metadata": {},
   "outputs": [],
   "source": [
    "# autoreload for automatically reloading changes made in my_model_selectors and my_recognizer\n",
    "%load_ext autoreload\n",
    "%autoreload 2"
   ]
  },
  {
   "cell_type": "code",
   "execution_count": 25,
   "metadata": {},
   "outputs": [
    {
     "name": "stdout",
     "output_type": "stream",
     "text": [
      "Training complete for FISH with 13 states with time 0.6518059750087559 seconds\n",
      "Training complete for BOOK with 6 states with time 4.30219846899854 seconds\n",
      "Training complete for VEGETABLE with 2 states with time 2.6954295949981315 seconds\n",
      "Training complete for FUTURE with 2 states with time 4.548652577999746 seconds\n",
      "Training complete for JOHN with 12 states with time 38.704126563010504 seconds\n"
     ]
    }
   ],
   "source": [
    "# TODO: Implement SelectorCV in my_model_selector.py\n",
    "from my_model_selectors import SelectorCV\n",
    "\n",
    "training = asl.build_training(features_ground)  # Experiment here with different feature sets defined in part 1\n",
    "sequences = training.get_all_sequences()\n",
    "Xlengths = training.get_all_Xlengths()\n",
    "for word in words_to_train:\n",
    "    start = timeit.default_timer()\n",
    "    model = SelectorCV(sequences, Xlengths, word, \n",
    "                    min_n_components=2, max_n_components=15, random_state = 14).select()\n",
    "    end = timeit.default_timer()-start\n",
    "    if model is not None:\n",
    "        print(\"Training complete for {} with {} states with time {} seconds\".format(word, model.n_components, end))\n",
    "    else:\n",
    "        print(\"Training failed for {}\".format(word))"
   ]
  },
  {
   "cell_type": "code",
   "execution_count": 26,
   "metadata": {},
   "outputs": [
    {
     "name": "stdout",
     "output_type": "stream",
     "text": [
      "rows of transmat_ must sum to 1.0 (got [1. 1. 1. 1. 0. 1.])\n",
      "rows of transmat_ must sum to 1.0 (got [1. 0. 1. 1. 1. 1. 1.])\n",
      "rows of transmat_ must sum to 1.0 (got [1. 1. 1. 1. 1. 1. 0. 1.])\n",
      "rows of transmat_ must sum to 1.0 (got [1. 1. 1. 1. 1. 1. 0. 1. 1.])\n",
      "rows of transmat_ must sum to 1.0 (got [1. 1. 1. 1. 1. 1. 0. 1. 1. 1.])\n",
      "rows of transmat_ must sum to 1.0 (got [1. 1. 1. 1. 1. 1. 0. 1. 1. 1. 1.])\n",
      "rows of transmat_ must sum to 1.0 (got [1. 1. 1. 1. 1. 1. 0. 1. 1. 1. 1. 1.])\n",
      "rows of transmat_ must sum to 1.0 (got [1. 1. 1. 1. 1. 1. 0. 1. 1. 1. 1. 1. 1.])\n",
      "rows of transmat_ must sum to 1.0 (got [1. 1. 1. 1. 1. 1. 0. 1. 1. 1. 1. 1. 1. 1.])\n",
      "rows of transmat_ must sum to 1.0 (got [1. 1. 1. 1. 1. 1. 0. 1. 1. 1. 1. 1. 1. 1. 1.])\n",
      "Training complete for FISH with 6 states with time 0.5548927810013993 seconds\n",
      "Training complete for BOOK with 5 states with time 2.889194506002241 seconds\n",
      "Training complete for VEGETABLE with 3 states with time 0.9796710910013644 seconds\n",
      "Training complete for FUTURE with 4 states with time 2.4793323630001396 seconds\n",
      "Training complete for JOHN with 10 states with time 18.664476714999182 seconds\n"
     ]
    }
   ],
   "source": [
    "# TODO: Implement SelectorBIC in module my_model_selectors.py\n",
    "from my_model_selectors import SelectorBIC\n",
    "\n",
    "training = asl.build_training(features_ground)  # Experiment here with different feature sets defined in part 1\n",
    "sequences = training.get_all_sequences()\n",
    "Xlengths = training.get_all_Xlengths()\n",
    "for word in words_to_train:\n",
    "    start = timeit.default_timer()\n",
    "    model = SelectorBIC(sequences, Xlengths, word, \n",
    "                    min_n_components=2, max_n_components=15, random_state = 14).select()\n",
    "    end = timeit.default_timer()-start\n",
    "    if model is not None:\n",
    "        print(\"Training complete for {} with {} states with time {} seconds\".format(word, model.n_components, end))\n",
    "    else:\n",
    "        print(\"Training failed for {}\".format(word))"
   ]
  },
  {
   "cell_type": "code",
   "execution_count": 27,
   "metadata": {},
   "outputs": [
    {
     "name": "stdout",
     "output_type": "stream",
     "text": [
      "rows of transmat_ must sum to 1.0 (got [1. 1. 1. 1. 0. 1.]) FISH\n",
      "rows of transmat_ must sum to 1.0 (got [1. 0. 1. 1. 1. 1. 1.]) FISH\n",
      "rows of transmat_ must sum to 1.0 (got [1. 1. 1. 1. 1. 1. 0. 1.]) FISH\n",
      "rows of transmat_ must sum to 1.0 (got [1. 1. 1. 1. 1. 1. 0. 1. 1.]) FISH\n",
      "rows of transmat_ must sum to 1.0 (got [1. 1. 1. 1. 1. 1. 0. 1. 1. 1.]) FISH\n",
      "rows of transmat_ must sum to 1.0 (got [1. 1. 1. 1. 1. 1. 0. 1. 1. 1. 1.]) FISH\n",
      "rows of transmat_ must sum to 1.0 (got [1. 1. 1. 1. 1. 1. 0. 1. 1. 1. 1. 1.]) FISH\n",
      "rows of transmat_ must sum to 1.0 (got [1. 1. 1. 1. 1. 1. 0. 1. 1. 1. 1. 1. 1.]) FISH\n",
      "rows of transmat_ must sum to 1.0 (got [1. 1. 1. 1. 1. 1. 0. 1. 1. 1. 1. 1. 1. 1.]) FISH\n",
      "rows of transmat_ must sum to 1.0 (got [1. 1. 1. 1. 1. 1. 0. 1. 1. 1. 1. 1. 1. 1. 1.]) FISH\n",
      "Training complete for FISH with 5 states with time 0.5082965150068048 seconds\n",
      "Training complete for BOOK with 15 states with time 2.0179531629983103 seconds\n",
      "Training complete for VEGETABLE with 15 states with time 0.7866765729995677 seconds\n",
      "Training complete for FUTURE with 15 states with time 2.181262874000822 seconds\n",
      "Training complete for JOHN with 15 states with time 19.29358023799432 seconds\n"
     ]
    }
   ],
   "source": [
    "# TODO: Implement SelectorDIC in module my_model_selectors.py\n",
    "from my_model_selectors import SelectorDIC\n",
    "\n",
    "training = asl.build_training(features_ground)  # Experiment here with different feature sets defined in part 1\n",
    "sequences = training.get_all_sequences()\n",
    "Xlengths = training.get_all_Xlengths()\n",
    "for word in words_to_train:\n",
    "    start = timeit.default_timer()\n",
    "    model = SelectorDIC(sequences, Xlengths, word, \n",
    "                    min_n_components=2, max_n_components=15, random_state = 14).select()\n",
    "    end = timeit.default_timer()-start\n",
    "    if model is not None:\n",
    "        print(\"Training complete for {} with {} states with time {} seconds\".format(word, model.n_components, end))\n",
    "    else:\n",
    "        print(\"Training failed for {}\".format(word))"
   ]
  },
  {
   "cell_type": "markdown",
   "metadata": {},
   "source": [
    "**Question 2:**  Compare and contrast the possible advantages and disadvantages of the various model selectors implemented.\n",
    "\n",
    "**Answer 2:**\n",
    "\n",
    "Although they use the Bayes Factor Criterion, the DIC and BIC models differ from the concept of the interpretation of the obtained result. \n",
    "The BIC model tries to find the most accurate model possible, thus increasing the algorithm prediction capacity. In contrast, the DIC model aims to estimate the best model based on the task. This approach aims to find great locations contrary to the overall optimum bic model.\n",
    "\n",
    "The DIC model is better adapted to the changes that may occur in the analysis, this adaptability may present a rate of up to 18% greater than the BIC model. However, this performance demands a high performance system.\n",
    "\n",
    "Finally, the Cross Validation model consisted of the analysis of data bases with the objective of applying a statistical analysis that allows to predict from a training database the future database. However, for large databases the execution of this model tends to be very slow."
   ]
  },
  {
   "cell_type": "markdown",
   "metadata": {},
   "source": [
    "<a id='part2_test'></a>\n",
    "### Model Selector Unit Testing\n",
    "Run the following unit tests as a sanity check on the implemented model selectors.  The test simply looks for valid interfaces  but is not exhaustive. However, the project should not be submitted if these tests don't pass."
   ]
  },
  {
   "cell_type": "code",
   "execution_count": 102,
   "metadata": {},
   "outputs": [
    {
     "name": "stdout",
     "output_type": "stream",
     "text": [
      "rows of transmat_ must sum to 1.0 (got [1. 1. 1. 0. 1.]) TOY\n",
      "rows of transmat_ must sum to 1.0 (got [1. 1. 1. 0. 1. 1.]) TOY\n",
      "rows of transmat_ must sum to 1.0 (got [1. 1. 1. 0. 1. 1. 0.]) TOY\n",
      "rows of transmat_ must sum to 1.0 (got [1. 1. 1. 0. 1. 1. 0. 1.]) TOY\n",
      "rows of transmat_ must sum to 1.0 (got [1. 1. 1. 0. 1. 1. 0. 1. 1.]) TOY\n"
     ]
    },
    {
     "name": "stderr",
     "output_type": "stream",
     "text": [
      "."
     ]
    },
    {
     "name": "stdout",
     "output_type": "stream",
     "text": [
      "rows of transmat_ must sum to 1.0 (got [1. 1. 1. 0. 1. 1. 0. 1. 1. 1.]) TOY\n"
     ]
    },
    {
     "name": "stderr",
     "output_type": "stream",
     "text": [
      "\n",
      "----------------------------------------------------------------------\n",
      "Ran 1 test in 9.658s\n",
      "\n",
      "OK\n"
     ]
    },
    {
     "data": {
      "text/plain": [
       "<unittest.runner.TextTestResult run=1 errors=0 failures=0>"
      ]
     },
     "execution_count": 102,
     "metadata": {},
     "output_type": "execute_result"
    }
   ],
   "source": [
    "from asl_test_model_selectors import TestSelectors\n",
    "suite = unittest.TestLoader().loadTestsFromModule(TestSelectors())\n",
    "unittest.TextTestRunner().run(suite)"
   ]
  },
  {
   "cell_type": "markdown",
   "metadata": {},
   "source": [
    "<a id='part3_tutorial'></a>\n",
    "## PART 3: Recognizer\n",
    "The objective of this section is to \"put it all together\".  Using the four feature sets created and the three model selectors, you will experiment with the models and present your results.  Instead of training only five specific words as in the previous section, train the entire set with a feature set and model selector strategy.  \n",
    "### Recognizer Tutorial\n",
    "##### Train the full training set\n",
    "The following example trains the entire set with the example `features_ground` and `SelectorConstant` features and model selector.  Use this pattern for you experimentation and final submission cells.\n",
    "\n"
   ]
  },
  {
   "cell_type": "code",
   "execution_count": 29,
   "metadata": {},
   "outputs": [
    {
     "name": "stdout",
     "output_type": "stream",
     "text": [
      "Number of word models returned = 112\n"
     ]
    }
   ],
   "source": [
    "from my_model_selectors import SelectorConstant\n",
    "\n",
    "def train_all_words(features, model_selector):\n",
    "    training = asl.build_training(features)  # Experiment here with different feature sets defined in part 1\n",
    "    sequences = training.get_all_sequences()\n",
    "    Xlengths = training.get_all_Xlengths()\n",
    "    model_dict = {}\n",
    "    for word in training.words:\n",
    "        model = model_selector(sequences, Xlengths, word, \n",
    "                        n_constant=3).select()\n",
    "        model_dict[word]=model\n",
    "    return model_dict\n",
    "\n",
    "models = train_all_words(features_ground, SelectorConstant)\n",
    "print(\"Number of word models returned = {}\".format(len(models)))"
   ]
  },
  {
   "cell_type": "markdown",
   "metadata": {},
   "source": [
    "##### Load the test set\n",
    "The `build_test` method in `ASLdb` is similar to the `build_training` method already presented, but there are a few differences:\n",
    "- the object is type `SinglesData` \n",
    "- the internal dictionary keys are the index of the test word rather than the word itself\n",
    "- the getter methods are `get_all_sequences`, `get_all_Xlengths`, `get_item_sequences` and `get_item_Xlengths`"
   ]
  },
  {
   "cell_type": "code",
   "execution_count": 30,
   "metadata": {},
   "outputs": [
    {
     "name": "stdout",
     "output_type": "stream",
     "text": [
      "Number of test set items: 178\n",
      "Number of test set sentences: 40\n"
     ]
    }
   ],
   "source": [
    "test_set = asl.build_test(features_ground)\n",
    "print(\"Number of test set items: {}\".format(test_set.num_items))\n",
    "print(\"Number of test set sentences: {}\".format(len(test_set.sentences_index)))"
   ]
  },
  {
   "cell_type": "markdown",
   "metadata": {},
   "source": [
    "<a id='part3_submission'></a>\n",
    "### Recognizer Implementation Submission\n",
    "For the final project submission, students must implement a recognizer following guidance in the `my_recognizer.py` module.  Experiment with the four feature sets and the three model selection methods (that's 12 possible combinations). You can add and remove cells for experimentation or run the recognizers locally in some other way during your experiments, but retain the results for your discussion.  For submission, you will provide code cells of **only three** interesting combinations for your discussion (see questions below). At least one of these should produce a word error rate of less than 60%, i.e. WER < 0.60 . \n",
    "\n",
    "**Tip:** The hmmlearn library may not be able to train or score all models.  Implement try/except contructs as necessary to eliminate non-viable models from consideration."
   ]
  },
  {
   "cell_type": "code",
   "execution_count": 31,
   "metadata": {},
   "outputs": [],
   "source": [
    "# TODO implement the recognize method in my_recognizer\n",
    "from my_recognizer import recognize\n",
    "from asl_utils import show_errors"
   ]
  },
  {
   "cell_type": "code",
   "execution_count": 109,
   "metadata": {},
   "outputs": [
    {
     "name": "stdout",
     "output_type": "stream",
     "text": [
      "rows of transmat_ must sum to 1.0 (got [1. 0. 1. 1. 1. 1.])\n",
      "rows of transmat_ must sum to 1.0 (got [1. 1. 1. 0. 1. 1. 1.])\n",
      "rows of transmat_ must sum to 1.0 (got [1. 1. 1. 1. 1. 0. 1. 1.])\n",
      "rows of transmat_ must sum to 1.0 (got [1. 1. 1. 1. 1. 0. 1. 1. 1.])\n",
      "rows of transmat_ must sum to 1.0 (got [1. 1. 1. 1. 1. 0. 1. 1. 1. 1.])\n",
      "n_samples=9 should be >= n_clusters=10\n",
      "rows of transmat_ must sum to 1.0 (got [1. 1. 0. 1. 1.])\n",
      "rows of transmat_ must sum to 1.0 (got [1. 1. 1. 1. 0. 1.])\n",
      "rows of transmat_ must sum to 1.0 (got [1. 1. 0. 1. 1. 1. 1.])\n",
      "rows of transmat_ must sum to 1.0 (got [1. 1. 1. 0. 1. 1. 1. 1.])\n",
      "rows of transmat_ must sum to 1.0 (got [1. 1. 1. 0. 1. 1. 1. 1. 1.])\n",
      "rows of transmat_ must sum to 1.0 (got [1. 1. 1. 0. 1. 1. 1. 1. 1. 1.])\n",
      "rows of transmat_ must sum to 1.0 (got [1. 1. 1. 1. 1. 1. 1. 0.])\n",
      "rows of transmat_ must sum to 1.0 (got [1. 1. 1. 1. 1. 0. 1. 1. 1.])\n",
      "rows of transmat_ must sum to 1.0 (got [1. 1. 1. 1. 1. 1. 1. 0. 1. 1.])\n",
      "rows of transmat_ must sum to 1.0 (got [0. 1. 1. 1. 1. 1.])\n",
      "rows of transmat_ must sum to 1.0 (got [1. 1. 0. 1. 1. 1. 1.])\n",
      "rows of transmat_ must sum to 1.0 (got [1. 1. 1. 1. 1. 0. 1. 1.])\n",
      "rows of transmat_ must sum to 1.0 (got [0. 1. 1. 1. 1. 1. 1. 1. 1.])\n",
      "rows of transmat_ must sum to 1.0 (got [1. 1. 1. 1. 1. 1. 0. 1. 1. 1.])\n",
      "rows of transmat_ must sum to 1.0 (got [1. 1. 1. 1. 1. 1. 0.])\n",
      "rows of transmat_ must sum to 1.0 (got [1. 1. 1. 1. 1. 1. 0. 1. 1. 1.])\n",
      "rows of transmat_ must sum to 1.0 (got [0. 1. 1. 1. 1. 1. 0. 1.])\n",
      "rows of transmat_ must sum to 1.0 (got [1. 1. 1. 1. 1. 1. 1. 1. 0.])\n",
      "rows of transmat_ must sum to 1.0 (got [1. 1. 1. 1. 1. 1. 1. 1. 1. 0.])\n",
      "n_samples=9 should be >= n_clusters=10\n",
      "rows of transmat_ must sum to 1.0 (got [1. 1. 1. 1. 1. 1. 0. 1.])\n",
      "rows of transmat_ must sum to 1.0 (got [1. 1. 1. 1. 1. 1. 0. 1. 1.])\n",
      "rows of transmat_ must sum to 1.0 (got [1. 1. 1. 1. 1. 1. 0. 1. 1. 1.])\n",
      "rows of transmat_ must sum to 1.0 (got [1. 1. 1. 0. 1. 1. 1. 1. 1.])\n",
      "rows of transmat_ must sum to 1.0 (got [1. 1. 1. 0. 1. 1. 1. 1. 1. 1.])\n",
      "rows of transmat_ must sum to 1.0 (got [1. 1. 1. 0.])\n",
      "rows of transmat_ must sum to 1.0 (got [1. 1. 1. 0. 1.])\n",
      "rows of transmat_ must sum to 1.0 (got [1. 1. 1. 0. 1. 1.])\n",
      "n_samples=6 should be >= n_clusters=7\n",
      "n_samples=6 should be >= n_clusters=8\n",
      "n_samples=6 should be >= n_clusters=9\n",
      "n_samples=6 should be >= n_clusters=10\n",
      "rows of transmat_ must sum to 1.0 (got [1. 1. 1. 1. 0. 1. 1. 1.])\n",
      "rows of transmat_ must sum to 1.0 (got [1. 1. 1. 1. 0. 1. 1. 1. 1.])\n",
      "rows of transmat_ must sum to 1.0 (got [1. 1. 1. 1. 1. 1. 1. 0. 1. 1.])\n",
      "rows of transmat_ must sum to 1.0 (got [1. 1. 1. 1. 1. 0. 1.])\n",
      "rows of transmat_ must sum to 1.0 (got [1. 1. 1. 1. 0. 1. 1. 1.])\n",
      "rows of transmat_ must sum to 1.0 (got [1. 1. 1. 1. 0. 1. 1. 1. 1.])\n",
      "rows of transmat_ must sum to 1.0 (got [1. 1. 1. 1. 1. 1. 0. 1. 1. 1.])\n",
      "n_samples=9 should be >= n_clusters=10\n",
      "rows of transmat_ must sum to 1.0 (got [0. 1. 1. 1.])\n",
      "rows of transmat_ must sum to 1.0 (got [0. 1. 1. 1. 1.])\n",
      "rows of transmat_ must sum to 1.0 (got [0. 1. 1. 1. 1. 1.])\n",
      "rows of transmat_ must sum to 1.0 (got [0. 1. 1. 1. 1. 1. 1.])\n",
      "rows of transmat_ must sum to 1.0 (got [0. 1. 1. 1. 1. 1. 1. 0.])\n",
      "rows of transmat_ must sum to 1.0 (got [0. 1. 1. 1. 1. 1. 1. 0. 1.])\n",
      "n_samples=9 should be >= n_clusters=10\n",
      "rows of transmat_ must sum to 1.0 (got [0. 1. 1. 1. 1. 1. 1. 1. 1.])\n",
      "n_samples=9 should be >= n_clusters=10\n",
      "rows of transmat_ must sum to 1.0 (got [1. 1. 1. 1. 0.])\n",
      "rows of transmat_ must sum to 1.0 (got [1. 1. 1. 1. 0. 1.])\n",
      "n_samples=6 should be >= n_clusters=7\n",
      "n_samples=6 should be >= n_clusters=8\n",
      "n_samples=6 should be >= n_clusters=9\n",
      "n_samples=6 should be >= n_clusters=10\n",
      "rows of transmat_ must sum to 1.0 (got [1. 0. 1. 1.])\n",
      "rows of transmat_ must sum to 1.0 (got [1. 0. 1. 1. 1.])\n",
      "rows of transmat_ must sum to 1.0 (got [1. 0. 1. 1. 1. 1.])\n",
      "n_samples=6 should be >= n_clusters=7\n",
      "n_samples=6 should be >= n_clusters=8\n",
      "n_samples=6 should be >= n_clusters=9\n",
      "n_samples=6 should be >= n_clusters=10\n",
      "rows of transmat_ must sum to 1.0 (got [1. 1. 0.])\n",
      "rows of transmat_ must sum to 1.0 (got [0. 1. 1. 1.])\n",
      "rows of transmat_ must sum to 1.0 (got [0. 1. 1. 1. 1.])\n",
      "rows of transmat_ must sum to 1.0 (got [0. 1. 1. 1. 1. 1.])\n",
      "rows of transmat_ must sum to 1.0 (got [0. 1. 1. 1. 1. 1. 1.])\n",
      "rows of transmat_ must sum to 1.0 (got [0. 1. 1. 1. 1. 1. 1. 0.])\n",
      "rows of transmat_ must sum to 1.0 (got [0. 1. 1. 1. 1. 1. 1. 0. 1.])\n",
      "n_samples=9 should be >= n_clusters=10\n",
      "rows of transmat_ must sum to 1.0 (got [1. 0. 1.])\n",
      "rows of transmat_ must sum to 1.0 (got [1. 0. 1. 1.])\n",
      "rows of transmat_ must sum to 1.0 (got [1. 0. 1. 1. 0.])\n",
      "rows of transmat_ must sum to 1.0 (got [1. 0. 1. 1. 0. 1.])\n",
      "rows of transmat_ must sum to 1.0 (got [1. 0. 1. 1. 0. 1. 1.])\n",
      "rows of transmat_ must sum to 1.0 (got [1. 0. 1. 1. 0. 1. 1. 1.])\n",
      "n_samples=8 should be >= n_clusters=9\n",
      "n_samples=8 should be >= n_clusters=10\n",
      "n_samples=8 should be >= n_clusters=9\n",
      "n_samples=8 should be >= n_clusters=10\n",
      "rows of transmat_ must sum to 1.0 (got [1. 1. 1. 1. 1. 0.])\n",
      "rows of transmat_ must sum to 1.0 (got [1. 1. 1. 1. 1. 0. 1.])\n",
      "rows of transmat_ must sum to 1.0 (got [1. 1. 0. 1. 1. 1. 1. 1.])\n",
      "rows of transmat_ must sum to 1.0 (got [1. 1. 1. 1. 1. 0. 1. 1. 1.])\n",
      "rows of transmat_ must sum to 1.0 (got [1. 1. 1. 1. 1. 0. 1. 1. 1. 1.])\n",
      "rows of transmat_ must sum to 1.0 (got [1. 1. 1. 0.])\n",
      "rows of transmat_ must sum to 1.0 (got [1. 1. 1. 1. 0.])\n",
      "rows of transmat_ must sum to 1.0 (got [1. 1. 1. 1. 0. 1.])\n",
      "rows of transmat_ must sum to 1.0 (got [1. 1. 1. 1. 0. 1. 1.])\n",
      "n_samples=7 should be >= n_clusters=8\n",
      "n_samples=7 should be >= n_clusters=9\n",
      "n_samples=7 should be >= n_clusters=10\n",
      "rows of transmat_ must sum to 1.0 (got [0. 1.])\n",
      "rows of transmat_ must sum to 1.0 (got [0. 1. 1.])\n",
      "rows of transmat_ must sum to 1.0 (got [0. 1. 1. 1.])\n",
      "n_samples=4 should be >= n_clusters=5\n",
      "n_samples=4 should be >= n_clusters=6\n",
      "n_samples=4 should be >= n_clusters=7\n",
      "n_samples=4 should be >= n_clusters=8\n",
      "n_samples=4 should be >= n_clusters=9\n",
      "n_samples=4 should be >= n_clusters=10\n",
      "rows of transmat_ must sum to 1.0 (got [1. 1. 1. 0.])\n",
      "rows of transmat_ must sum to 1.0 (got [1. 1. 1. 1. 0.])\n",
      "rows of transmat_ must sum to 1.0 (got [1. 1. 1. 0. 1. 1.])\n",
      "rows of transmat_ must sum to 1.0 (got [1. 1. 1. 0. 1. 1. 1.])\n",
      "rows of transmat_ must sum to 1.0 (got [1. 1. 1. 1. 0. 1. 1. 1.])\n",
      "rows of transmat_ must sum to 1.0 (got [1. 1. 1. 1. 0. 1. 1. 1. 1.])\n",
      "rows of transmat_ must sum to 1.0 (got [1. 1. 1. 1. 0. 1. 1. 1. 1. 1.])\n",
      "rows of transmat_ must sum to 1.0 (got [1. 1. 0. 1.])\n",
      "rows of transmat_ must sum to 1.0 (got [0. 1. 1. 1. 1.])\n",
      "rows of transmat_ must sum to 1.0 (got [1. 1. 1. 0. 1. 1.])\n",
      "rows of transmat_ must sum to 1.0 (got [0. 1. 1. 1. 1. 1. 1.])\n",
      "rows of transmat_ must sum to 1.0 (got [0. 1. 1. 1. 1. 1. 1. 1.])\n",
      "rows of transmat_ must sum to 1.0 (got [0. 1. 1. 1. 1. 1. 1. 1. 1.])\n",
      "rows of transmat_ must sum to 1.0 (got [0. 1. 1. 1. 1. 1. 1. 1. 1. 0.])\n",
      "rows of transmat_ must sum to 1.0 (got [1. 1. 1. 1. 0. 1. 1. 1. 1.])\n",
      "rows of transmat_ must sum to 1.0 (got [1. 1. 1. 1. 1. 0. 1. 1. 1. 1.])\n",
      "rows of transmat_ must sum to 1.0 (got [1. 0.])\n",
      "rows of transmat_ must sum to 1.0 (got [1. 0. 1.])\n",
      "rows of transmat_ must sum to 1.0 (got [1. 0. 1. 1.])\n",
      "rows of transmat_ must sum to 1.0 (got [1. 0. 1. 1. 0.])\n",
      "rows of transmat_ must sum to 1.0 (got [1. 0. 1. 1. 0. 1.])\n",
      "rows of transmat_ must sum to 1.0 (got [1. 0. 1. 1. 0. 1. 1.])\n",
      "rows of transmat_ must sum to 1.0 (got [1. 0. 1. 1. 0. 1. 1. 1.])\n",
      "n_samples=8 should be >= n_clusters=9\n",
      "n_samples=8 should be >= n_clusters=10\n",
      "\n",
      "**** WER = 0.5393258426966292\n",
      "Total correct: 82 out of 178\n",
      "Video  Recognized                                                    Correct\n",
      "=====================================================================================================\n",
      "  100: POSS NEW CAR BREAK-DOWN                                       POSS NEW CAR BREAK-DOWN\n",
      "    2: *GO WRITE *NEW                                                JOHN WRITE HOMEWORK\n",
      "   67: JOHN FUTURE *WHO BUY HOUSE                                    JOHN FUTURE NOT BUY HOUSE\n",
      "    7: JOHN *PEOPLE GO *ARRIVE                                       JOHN CAN GO CAN\n",
      "  201: JOHN *MAN *MAN *WOMAN BUY HOUSE                               JOHN TELL MARY IX-1P BUY HOUSE\n",
      "   74: *IX *VISIT *GIVE MARY                                         JOHN NOT VISIT MARY\n",
      "  119: *PREFER *BUY1 *CAR CAR *GO                                    SUE BUY IX CAR BLUE\n",
      "   12: JOHN *WHAT *GO1 CAN                                           JOHN CAN GO CAN\n",
      "   77: *JOHN *MARY MARY                                              ANN BLAME MARY\n",
      "  142: JOHN *NEW YESTERDAY WHAT BOOK                                 JOHN BUY YESTERDAY WHAT BOOK\n",
      "  107: JOHN *IX *HAVE *GO *JANA                                      JOHN POSS FRIEND HAVE CANDY\n",
      "   84: *MARY *STUDENT *GIVE1 *COAT                                   IX-1P FIND SOMETHING-ONE BOOK\n",
      "   21: JOHN *NEW WONT *FUTURE *CAR *CAR *FUTURE *WHO                 JOHN FISH WONT EAT BUT CAN EAT CHICKEN\n",
      "   25: JOHN LIKE *FUTURE *WHO IX                                     JOHN LIKE IX IX IX\n",
      "   89: *GIVE *GIVE *IX *IX IX *ARRIVE *BOOK                          JOHN IX GIVE MAN IX NEW COAT\n",
      "   71: JOHN *FINISH *GIVE1 MARY                                      JOHN WILL VISIT MARY\n",
      "   92: JOHN *IX IX *WOMAN WOMAN BOOK                                 JOHN GIVE IX SOMETHING-ONE WOMAN BOOK\n",
      "   90: *SOMETHING-ONE *SOMETHING-ONE IX *IX WOMAN *COAT              JOHN GIVE IX SOMETHING-ONE WOMAN BOOK\n",
      "   30: JOHN LIKE *MARY *MARY *MARY                                   JOHN LIKE IX IX IX\n",
      "  193: JOHN *SOMETHING-ONE *GIVE BOX                                 JOHN GIVE GIRL BOX\n",
      "   36: *VISIT VEGETABLE *YESTERDAY *GIVE *MARY *MARY                 MARY VEGETABLE KNOW IX LIKE CORN1\n",
      "  139: JOHN *BUY1 WHAT *BLAME BOOK                                   JOHN BUY WHAT YESTERDAY BOOK\n",
      "  167: JOHN IX *VISIT *WOMAN MARY                                    JOHN IX SAY LOVE MARY\n",
      "   40: JOHN *VISIT *FUTURE1 *JOHN *MARY                              JOHN IX THINK MARY LOVE\n",
      "   28: JOHN *WHO *FUTURE *WHO IX                                     JOHN LIKE IX IX IX\n",
      "  171: JOHN *IX BLAME                                                JOHN MARY BLAME\n",
      "   43: JOHN *FUTURE BUY HOUSE                                        JOHN MUST BUY HOUSE\n",
      "  108: WOMAN *BOOK                                                   WOMAN ARRIVE\n",
      "  174: *JOHN *GIVE3 GIVE1 *GIVE *JOHN                                PEOPLE GROUP GIVE1 JANA TOY\n",
      "  113: IX CAR *IX *IX *BOX                                           IX CAR BLUE SUE BUY\n",
      "   50: *JOHN *SEE BUY CAR *JOHN                                      FUTURE JOHN BUY CAR SHOULD\n",
      "  199: *JOHN CHOCOLATE WHO                                           LIKE CHOCOLATE WHO\n",
      "  158: LOVE JOHN WHO                                                 LOVE JOHN WHO\n",
      "   54: JOHN SHOULD NOT BUY HOUSE                                     JOHN SHOULD NOT BUY HOUSE\n",
      "  105: JOHN *VEGETABLE                                               JOHN LEG\n",
      "  184: *IX *GIVE *GIVE1 TEACHER APPLE                                ALL BOY GIVE TEACHER APPLE\n",
      "   57: *MARY *VISIT VISIT MARY                                       JOHN DECIDE VISIT MARY\n",
      "  122: JOHN *GIVE1 BOOK                                              JOHN READ BOOK\n",
      "  189: *MARY *VISIT *YESTERDAY BOX                                   JOHN GIVE GIRL BOX\n",
      "  181: *BLAME ARRIVE                                                 JOHN ARRIVE\n"
     ]
    }
   ],
   "source": [
    "# TODO Choose a feature set and model selector\n",
    "features = features_polar # change as needed\n",
    "model_selector = SelectorBIC # change as needed\n",
    "\n",
    "# TODO Recognize the test set and display the result with the show_errors method\n",
    "models = train_all_words(features, model_selector)\n",
    "test_set = asl.build_test(features)\n",
    "probabilities, guesses = recognize(models, test_set)\n",
    "show_errors(guesses, test_set)"
   ]
  },
  {
   "cell_type": "code",
   "execution_count": 110,
   "metadata": {},
   "outputs": [
    {
     "name": "stdout",
     "output_type": "stream",
     "text": [
      "rows of transmat_ must sum to 1.0 (got [1. 0. 1. 1. 1. 1.]) MOVIE\n",
      "rows of transmat_ must sum to 1.0 (got [1. 1. 1. 0. 1. 1. 1.]) MOVIE\n",
      "rows of transmat_ must sum to 1.0 (got [1. 1. 1. 1. 1. 0. 1. 1.]) MOVIE\n",
      "rows of transmat_ must sum to 1.0 (got [1. 1. 1. 1. 1. 0. 1. 1. 1.]) MOVIE\n",
      "rows of transmat_ must sum to 1.0 (got [1. 1. 1. 1. 1. 0. 1. 1. 1. 1.]) MOVIE\n",
      "n_samples=9 should be >= n_clusters=10 FRED\n",
      "rows of transmat_ must sum to 1.0 (got [1. 1. 0. 1. 1.]) TOY\n",
      "rows of transmat_ must sum to 1.0 (got [1. 1. 1. 1. 0. 1.]) TOY\n",
      "rows of transmat_ must sum to 1.0 (got [1. 1. 0. 1. 1. 1. 1.]) TOY\n",
      "rows of transmat_ must sum to 1.0 (got [1. 1. 1. 0. 1. 1. 1. 1.]) TOY\n",
      "rows of transmat_ must sum to 1.0 (got [1. 1. 1. 0. 1. 1. 1. 1. 1.]) TOY\n",
      "rows of transmat_ must sum to 1.0 (got [1. 1. 1. 0. 1. 1. 1. 1. 1. 1.]) TOY\n",
      "rows of transmat_ must sum to 1.0 (got [1. 1. 1. 1. 1. 1. 1. 0.]) BLUE\n",
      "rows of transmat_ must sum to 1.0 (got [1. 1. 1. 1. 1. 0. 1. 1. 1.]) BLUE\n",
      "rows of transmat_ must sum to 1.0 (got [1. 1. 1. 1. 1. 1. 1. 0. 1. 1.]) BLUE\n",
      "rows of transmat_ must sum to 1.0 (got [0. 1. 1. 1. 1. 1.]) ALL\n",
      "rows of transmat_ must sum to 1.0 (got [1. 1. 0. 1. 1. 1. 1.]) ALL\n",
      "rows of transmat_ must sum to 1.0 (got [1. 1. 1. 1. 1. 0. 1. 1.]) ALL\n",
      "rows of transmat_ must sum to 1.0 (got [0. 1. 1. 1. 1. 1. 1. 1. 1.]) ALL\n",
      "rows of transmat_ must sum to 1.0 (got [1. 1. 1. 1. 1. 1. 0. 1. 1. 1.]) ALL\n",
      "rows of transmat_ must sum to 1.0 (got [1. 1. 1. 1. 1. 1. 0.]) BROCCOLI\n",
      "rows of transmat_ must sum to 1.0 (got [1. 1. 1. 1. 1. 1. 0. 1. 1. 1.]) BROCCOLI\n",
      "rows of transmat_ must sum to 1.0 (got [0. 1. 1. 1. 1. 1. 0. 1.]) BOY\n",
      "rows of transmat_ must sum to 1.0 (got [1. 1. 1. 1. 1. 1. 1. 1. 0.]) BOY\n",
      "rows of transmat_ must sum to 1.0 (got [1. 1. 1. 1. 1. 1. 1. 1. 1. 0.]) BOY\n",
      "n_samples=9 should be >= n_clusters=10 GROUP\n",
      "rows of transmat_ must sum to 1.0 (got [1. 1. 1. 1. 1. 1. 0. 1.]) ANN\n",
      "rows of transmat_ must sum to 1.0 (got [1. 1. 1. 1. 1. 1. 0. 1. 1.]) ANN\n",
      "rows of transmat_ must sum to 1.0 (got [1. 1. 1. 1. 1. 1. 0. 1. 1. 1.]) ANN\n",
      "rows of transmat_ must sum to 1.0 (got [1. 1. 1. 0. 1. 1. 1. 1. 1.]) CHICAGO\n",
      "rows of transmat_ must sum to 1.0 (got [1. 1. 1. 0. 1. 1. 1. 1. 1. 1.]) CHICAGO\n",
      "rows of transmat_ must sum to 1.0 (got [1. 1. 1. 0.]) BORROW\n",
      "rows of transmat_ must sum to 1.0 (got [1. 1. 1. 0. 1.]) BORROW\n",
      "rows of transmat_ must sum to 1.0 (got [1. 1. 1. 0. 1. 1.]) BORROW\n",
      "n_samples=6 should be >= n_clusters=7 BORROW\n",
      "n_samples=6 should be >= n_clusters=8 BORROW\n",
      "n_samples=6 should be >= n_clusters=9 BORROW\n",
      "n_samples=6 should be >= n_clusters=10 BORROW\n",
      "rows of transmat_ must sum to 1.0 (got [1. 1. 1. 1. 0. 1. 1. 1.]) HOMEWORK\n",
      "rows of transmat_ must sum to 1.0 (got [1. 1. 1. 1. 0. 1. 1. 1. 1.]) HOMEWORK\n",
      "rows of transmat_ must sum to 1.0 (got [1. 1. 1. 1. 1. 1. 1. 0. 1. 1.]) HOMEWORK\n",
      "rows of transmat_ must sum to 1.0 (got [1. 1. 1. 1. 1. 0. 1.]) EAT\n",
      "rows of transmat_ must sum to 1.0 (got [1. 1. 1. 1. 0. 1. 1. 1.]) EAT\n",
      "rows of transmat_ must sum to 1.0 (got [1. 1. 1. 1. 0. 1. 1. 1. 1.]) EAT\n",
      "rows of transmat_ must sum to 1.0 (got [1. 1. 1. 1. 1. 1. 0. 1. 1. 1.]) EAT\n",
      "n_samples=9 should be >= n_clusters=10 PARTY\n",
      "rows of transmat_ must sum to 1.0 (got [0. 1. 1. 1.]) MANY\n",
      "rows of transmat_ must sum to 1.0 (got [0. 1. 1. 1. 1.]) MANY\n",
      "rows of transmat_ must sum to 1.0 (got [0. 1. 1. 1. 1. 1.]) MANY\n",
      "rows of transmat_ must sum to 1.0 (got [0. 1. 1. 1. 1. 1. 1.]) MANY\n",
      "rows of transmat_ must sum to 1.0 (got [0. 1. 1. 1. 1. 1. 1. 0.]) MANY\n",
      "rows of transmat_ must sum to 1.0 (got [0. 1. 1. 1. 1. 1. 1. 0. 1.]) MANY\n",
      "n_samples=9 should be >= n_clusters=10 MANY\n",
      "rows of transmat_ must sum to 1.0 (got [0. 1. 1. 1. 1. 1. 1. 1. 1.]) HIT\n",
      "n_samples=9 should be >= n_clusters=10 HIT\n",
      "rows of transmat_ must sum to 1.0 (got [1. 1. 1. 1. 0.]) LIVE\n",
      "rows of transmat_ must sum to 1.0 (got [1. 1. 1. 1. 0. 1.]) LIVE\n",
      "n_samples=6 should be >= n_clusters=7 LIVE\n",
      "n_samples=6 should be >= n_clusters=8 LIVE\n",
      "n_samples=6 should be >= n_clusters=9 LIVE\n",
      "n_samples=6 should be >= n_clusters=10 LIVE\n",
      "rows of transmat_ must sum to 1.0 (got [1. 0. 1. 1.]) GO2\n",
      "rows of transmat_ must sum to 1.0 (got [1. 0. 1. 1. 1.]) GO2\n",
      "rows of transmat_ must sum to 1.0 (got [1. 0. 1. 1. 1. 1.]) GO2\n",
      "n_samples=6 should be >= n_clusters=7 GO2\n",
      "n_samples=6 should be >= n_clusters=8 GO2\n",
      "n_samples=6 should be >= n_clusters=9 GO2\n",
      "n_samples=6 should be >= n_clusters=10 GO2\n",
      "rows of transmat_ must sum to 1.0 (got [1. 1. 0.]) OLD\n",
      "rows of transmat_ must sum to 1.0 (got [0. 1. 1. 1.]) OLD\n",
      "rows of transmat_ must sum to 1.0 (got [0. 1. 1. 1. 1.]) OLD\n",
      "rows of transmat_ must sum to 1.0 (got [0. 1. 1. 1. 1. 1.]) OLD\n",
      "rows of transmat_ must sum to 1.0 (got [0. 1. 1. 1. 1. 1. 1.]) OLD\n",
      "rows of transmat_ must sum to 1.0 (got [0. 1. 1. 1. 1. 1. 1. 0.]) OLD\n",
      "rows of transmat_ must sum to 1.0 (got [0. 1. 1. 1. 1. 1. 1. 0. 1.]) OLD\n",
      "n_samples=9 should be >= n_clusters=10 OLD\n",
      "rows of transmat_ must sum to 1.0 (got [1. 0. 1.]) LEG\n",
      "rows of transmat_ must sum to 1.0 (got [1. 0. 1. 1.]) LEG\n",
      "rows of transmat_ must sum to 1.0 (got [1. 0. 1. 1. 0.]) LEG\n",
      "rows of transmat_ must sum to 1.0 (got [1. 0. 1. 1. 0. 1.]) LEG\n",
      "rows of transmat_ must sum to 1.0 (got [1. 0. 1. 1. 0. 1. 1.]) LEG\n",
      "rows of transmat_ must sum to 1.0 (got [1. 0. 1. 1. 0. 1. 1. 1.]) LEG\n",
      "n_samples=8 should be >= n_clusters=9 LEG\n",
      "n_samples=8 should be >= n_clusters=10 LEG\n",
      "n_samples=8 should be >= n_clusters=9 GET\n",
      "n_samples=8 should be >= n_clusters=10 GET\n",
      "rows of transmat_ must sum to 1.0 (got [1. 1. 1. 1. 1. 0.]) WILL\n",
      "rows of transmat_ must sum to 1.0 (got [1. 1. 1. 1. 1. 0. 1.]) WILL\n",
      "rows of transmat_ must sum to 1.0 (got [1. 1. 0. 1. 1. 1. 1. 1.]) WILL\n",
      "rows of transmat_ must sum to 1.0 (got [1. 1. 1. 1. 1. 0. 1. 1. 1.]) WILL\n",
      "rows of transmat_ must sum to 1.0 (got [1. 1. 1. 1. 1. 0. 1. 1. 1. 1.]) WILL\n",
      "rows of transmat_ must sum to 1.0 (got [1. 1. 1. 0.]) NEXT-WEEK\n",
      "rows of transmat_ must sum to 1.0 (got [1. 1. 1. 1. 0.]) NEXT-WEEK\n",
      "rows of transmat_ must sum to 1.0 (got [1. 1. 1. 1. 0. 1.]) NEXT-WEEK\n",
      "rows of transmat_ must sum to 1.0 (got [1. 1. 1. 1. 0. 1. 1.]) NEXT-WEEK\n",
      "n_samples=7 should be >= n_clusters=8 NEXT-WEEK\n",
      "n_samples=7 should be >= n_clusters=9 NEXT-WEEK\n",
      "n_samples=7 should be >= n_clusters=10 NEXT-WEEK\n",
      "rows of transmat_ must sum to 1.0 (got [0. 1.]) FIND\n",
      "rows of transmat_ must sum to 1.0 (got [0. 1. 1.]) FIND\n",
      "rows of transmat_ must sum to 1.0 (got [0. 1. 1. 1.]) FIND\n",
      "n_samples=4 should be >= n_clusters=5 FIND\n",
      "n_samples=4 should be >= n_clusters=6 FIND\n",
      "n_samples=4 should be >= n_clusters=7 FIND\n",
      "n_samples=4 should be >= n_clusters=8 FIND\n",
      "n_samples=4 should be >= n_clusters=9 FIND\n",
      "n_samples=4 should be >= n_clusters=10 FIND\n",
      "rows of transmat_ must sum to 1.0 (got [1. 1. 1. 0.]) PUTASIDE\n",
      "rows of transmat_ must sum to 1.0 (got [1. 1. 1. 1. 0.]) PUTASIDE\n",
      "rows of transmat_ must sum to 1.0 (got [1. 1. 1. 0. 1. 1.]) PUTASIDE\n",
      "rows of transmat_ must sum to 1.0 (got [1. 1. 1. 0. 1. 1. 1.]) PUTASIDE\n",
      "rows of transmat_ must sum to 1.0 (got [1. 1. 1. 1. 0. 1. 1. 1.]) PUTASIDE\n",
      "rows of transmat_ must sum to 1.0 (got [1. 1. 1. 1. 0. 1. 1. 1. 1.]) PUTASIDE\n",
      "rows of transmat_ must sum to 1.0 (got [1. 1. 1. 1. 0. 1. 1. 1. 1. 1.]) PUTASIDE\n",
      "rows of transmat_ must sum to 1.0 (got [1. 1. 0. 1.]) CANDY\n",
      "rows of transmat_ must sum to 1.0 (got [0. 1. 1. 1. 1.]) CANDY\n",
      "rows of transmat_ must sum to 1.0 (got [1. 1. 1. 0. 1. 1.]) CANDY\n",
      "rows of transmat_ must sum to 1.0 (got [0. 1. 1. 1. 1. 1. 1.]) CANDY\n",
      "rows of transmat_ must sum to 1.0 (got [0. 1. 1. 1. 1. 1. 1. 1.]) CANDY\n",
      "rows of transmat_ must sum to 1.0 (got [0. 1. 1. 1. 1. 1. 1. 1. 1.]) CANDY\n",
      "rows of transmat_ must sum to 1.0 (got [0. 1. 1. 1. 1. 1. 1. 1. 1. 0.]) CANDY\n",
      "rows of transmat_ must sum to 1.0 (got [1. 1. 1. 1. 0. 1. 1. 1. 1.]) CHICKEN\n",
      "rows of transmat_ must sum to 1.0 (got [1. 1. 1. 1. 1. 0. 1. 1. 1. 1.]) CHICKEN\n",
      "rows of transmat_ must sum to 1.0 (got [1. 0.]) SAY-1P\n",
      "rows of transmat_ must sum to 1.0 (got [1. 0. 1.]) SAY-1P\n",
      "rows of transmat_ must sum to 1.0 (got [1. 0. 1. 1.]) SAY-1P\n",
      "rows of transmat_ must sum to 1.0 (got [1. 0. 1. 1. 0.]) SAY-1P\n",
      "rows of transmat_ must sum to 1.0 (got [1. 0. 1. 1. 0. 1.]) SAY-1P\n",
      "rows of transmat_ must sum to 1.0 (got [1. 0. 1. 1. 0. 1. 1.]) SAY-1P\n",
      "rows of transmat_ must sum to 1.0 (got [1. 0. 1. 1. 0. 1. 1. 1.]) SAY-1P\n",
      "n_samples=8 should be >= n_clusters=9 SAY-1P\n",
      "n_samples=8 should be >= n_clusters=10 SAY-1P\n"
     ]
    },
    {
     "name": "stdout",
     "output_type": "stream",
     "text": [
      "\n",
      "**** WER = 0.5449438202247191\n",
      "Total correct: 81 out of 178\n",
      "Video  Recognized                                                    Correct\n",
      "=====================================================================================================\n",
      "  100: POSS NEW CAR BREAK-DOWN                                       POSS NEW CAR BREAK-DOWN\n",
      "    2: JOHN *NEW *GIVE1                                              JOHN WRITE HOMEWORK\n",
      "   67: *SHOULD FUTURE *MARY BUY HOUSE                                JOHN FUTURE NOT BUY HOUSE\n",
      "    7: JOHN CAN GO CAN                                               JOHN CAN GO CAN\n",
      "  201: JOHN *GIVE *LOVE *JOHN BUY HOUSE                              JOHN TELL MARY IX-1P BUY HOUSE\n",
      "   74: *IX *GO *GO MARY                                              JOHN NOT VISIT MARY\n",
      "  119: *MARY *BUY1 IX *BLAME *IX                                     SUE BUY IX CAR BLUE\n",
      "   12: JOHN *WHAT *JOHN CAN                                          JOHN CAN GO CAN\n",
      "   77: *JOHN *GIVE1 MARY                                             ANN BLAME MARY\n",
      "  142: JOHN BUY YESTERDAY WHAT BOOK                                  JOHN BUY YESTERDAY WHAT BOOK\n",
      "  107: JOHN POSS *HAVE *GO *MARY                                     JOHN POSS FRIEND HAVE CANDY\n",
      "   84: *JOHN *JOHN *FUTURE *COAT                                     IX-1P FIND SOMETHING-ONE BOOK\n",
      "   21: JOHN *NEW *JOHN *WHO *CAR *WHAT *FUTURE *WHO                  JOHN FISH WONT EAT BUT CAN EAT CHICKEN\n",
      "   25: JOHN *IX IX *WHO IX                                           JOHN LIKE IX IX IX\n",
      "   89: *GIVE *GIVE *IX *IX IX *ARRIVE *BOOK                          JOHN IX GIVE MAN IX NEW COAT\n",
      "   71: JOHN *FUTURE *GIVE1 MARY                                      JOHN WILL VISIT MARY\n",
      "   92: JOHN *IX IX *IX *IX BOOK                                      JOHN GIVE IX SOMETHING-ONE WOMAN BOOK\n",
      "   90: JOHN GIVE IX SOMETHING-ONE WOMAN *ARRIVE                      JOHN GIVE IX SOMETHING-ONE WOMAN BOOK\n",
      "   30: JOHN LIKE *MARY *MARY *MARY                                   JOHN LIKE IX IX IX\n",
      "  193: JOHN *GO *YESTERDAY BOX                                       JOHN GIVE GIRL BOX\n",
      "   36: *IX *VISIT *GIVE *GIVE *MARY *MARY                            MARY VEGETABLE KNOW IX LIKE CORN1\n",
      "  139: JOHN *ARRIVE WHAT *MARY *ARRIVE                               JOHN BUY WHAT YESTERDAY BOOK\n",
      "  167: JOHN *MARY *VISIT LOVE MARY                                   JOHN IX SAY LOVE MARY\n",
      "   40: JOHN *GO *GIVE *JOHN *MARY                                    JOHN IX THINK MARY LOVE\n",
      "   28: JOHN *FUTURE IX *FUTURE IX                                    JOHN LIKE IX IX IX\n",
      "  171: *IX MARY BLAME                                                JOHN MARY BLAME\n",
      "   43: JOHN *IX BUY HOUSE                                            JOHN MUST BUY HOUSE\n",
      "  108: *LOVE *LOVE                                                   WOMAN ARRIVE\n",
      "  174: *JOHN *JOHN GIVE1 *YESTERDAY *JOHN                            PEOPLE GROUP GIVE1 JANA TOY\n",
      "  113: IX CAR *IX *MARY *JOHN                                        IX CAR BLUE SUE BUY\n",
      "   50: *JOHN *SEE BUY CAR *JOHN                                      FUTURE JOHN BUY CAR SHOULD\n",
      "  199: *JOHN *STUDENT *GO                                            LIKE CHOCOLATE WHO\n",
      "  158: LOVE JOHN WHO                                                 LOVE JOHN WHO\n",
      "   54: JOHN SHOULD NOT BUY HOUSE                                     JOHN SHOULD NOT BUY HOUSE\n",
      "  105: JOHN *SEE                                                     JOHN LEG\n",
      "  184: *GO BOY *GIVE1 TEACHER *YESTERDAY                             ALL BOY GIVE TEACHER APPLE\n",
      "   57: *MARY *GO *GO MARY                                            JOHN DECIDE VISIT MARY\n",
      "  122: JOHN *GIVE1 BOOK                                              JOHN READ BOOK\n",
      "  189: *MARY *GO *YESTERDAY BOX                                      JOHN GIVE GIRL BOX\n",
      "  181: *EAT ARRIVE                                                   JOHN ARRIVE\n"
     ]
    }
   ],
   "source": [
    "# TODO Choose a feature set and model selector\n",
    "features = features_polar # change as needed\n",
    "model_selector = SelectorDIC # change as needed\n",
    "\n",
    "# TODO Recognize the test set and display the result with the show_errors method\n",
    "models = train_all_words(features, model_selector)\n",
    "test_set = asl.build_test(features)\n",
    "probabilities, guesses = recognize(models, test_set)\n",
    "show_errors(guesses, test_set)"
   ]
  },
  {
   "cell_type": "code",
   "execution_count": 111,
   "metadata": {},
   "outputs": [
    {
     "name": "stdout",
     "output_type": "stream",
     "text": [
      "\n",
      "**** WER = 0.651685393258427\n",
      "Total correct: 62 out of 178\n",
      "Video  Recognized                                                    Correct\n",
      "=====================================================================================================\n",
      "  100: POSS NEW CAR BREAK-DOWN                                       POSS NEW CAR BREAK-DOWN\n",
      "    2: *FRANK *BOOK *NEW                                             JOHN WRITE HOMEWORK\n",
      "   67: JOHN *JOHN NOT BUY HOUSE                                      JOHN FUTURE NOT BUY HOUSE\n",
      "    7: JOHN *HAVE GO *WHAT                                           JOHN CAN GO CAN\n",
      "  201: JOHN *SHOULD *WOMAN *LOVE BUY HOUSE                           JOHN TELL MARY IX-1P BUY HOUSE\n",
      "   74: *GO *MARY *MARY *GO                                           JOHN NOT VISIT MARY\n",
      "  119: *VEGETABLE *BUY1 *GO *HAVE *GIVE                              SUE BUY IX CAR BLUE\n",
      "   12: *IX *WHAT *WHAT CAN                                           JOHN CAN GO CAN\n",
      "   77: *JOHN BLAME *SOMETHING-ONE                                    ANN BLAME MARY\n",
      "  142: JOHN *NEW YESTERDAY *TEACHER BOOK                             JOHN BUY YESTERDAY WHAT BOOK\n",
      "  107: JOHN *GIVE *HAVE *GO *WHO                                     JOHN POSS FRIEND HAVE CANDY\n",
      "   84: *FRANK *ARRIVE *POSS BOOK                                     IX-1P FIND SOMETHING-ONE BOOK\n",
      "   21: JOHN *NEW *POSS *JOHN *CAR *CAR *VISIT *FUTURE                JOHN FISH WONT EAT BUT CAN EAT CHICKEN\n",
      "   25: JOHN LIKE *LOVE *JOHN *FRANK                                  JOHN LIKE IX IX IX\n",
      "   89: *GIVE *GIVE *WOMAN *SOMETHING-ONE *WOMAN *ARRIVE *BOOK        JOHN IX GIVE MAN IX NEW COAT\n",
      "   71: JOHN *FINISH *GO *BLAME                                       JOHN WILL VISIT MARY\n",
      "   92: JOHN *WOMAN *WOMAN *WOMAN *SOMETHING-ONE BOOK                 JOHN GIVE IX SOMETHING-ONE WOMAN BOOK\n",
      "   90: JOHN *GIVE1 *WOMAN *WOMAN WOMAN *HERE                         JOHN GIVE IX SOMETHING-ONE WOMAN BOOK\n",
      "   30: JOHN LIKE *MARY *LIKE *GO                                     JOHN LIKE IX IX IX\n",
      "  193: JOHN *GIVE1 *YESTERDAY BOX                                    JOHN GIVE GIRL BOX\n",
      "   36: MARY VEGETABLE *GIRL *GIVE *MARY *MARY                        MARY VEGETABLE KNOW IX LIKE CORN1\n",
      "  139: JOHN *BUY1 *DECIDE YESTERDAY *ARRIVE                          JOHN BUY WHAT YESTERDAY BOOK\n",
      "  167: JOHN *MARY *MARY *WOMAN *GO                                   JOHN IX SAY LOVE MARY\n",
      "   40: JOHN *GIVE *CORN *JOHN *MARY                                  JOHN IX THINK MARY LOVE\n",
      "   28: JOHN *JOHN *MARY *JOHN *LOVE                                  JOHN LIKE IX IX IX\n",
      "  171: JOHN MARY BLAME                                               JOHN MARY BLAME\n",
      "   43: JOHN *POSS BUY HOUSE                                          JOHN MUST BUY HOUSE\n",
      "  108: *MARY *LOVE                                                   WOMAN ARRIVE\n",
      "  174: *CAN *GIVE1 GIVE1 *GIRL *WHAT                                 PEOPLE GROUP GIVE1 JANA TOY\n",
      "  113: *GO *HAVE *GO *MARY *BUY1                                     IX CAR BLUE SUE BUY\n",
      "   50: *JOHN *SEE BUY CAR *WHAT                                      FUTURE JOHN BUY CAR SHOULD\n",
      "  199: *FRANK CHOCOLATE *JOHN                                        LIKE CHOCOLATE WHO\n",
      "  158: LOVE *VISIT WHO                                               LOVE JOHN WHO\n",
      "   54: JOHN SHOULD *WHO BUY HOUSE                                    JOHN SHOULD NOT BUY HOUSE\n",
      "  105: JOHN *JOHN                                                    JOHN LEG\n",
      "  184: *WOMAN *YESTERDAY *BLAME TEACHER *GIRL                        ALL BOY GIVE TEACHER APPLE\n",
      "   57: *MARY *SEE *GIVE MARY                                         JOHN DECIDE VISIT MARY\n",
      "  122: JOHN *HOUSE BOOK                                              JOHN READ BOOK\n",
      "  189: JOHN GIVE *YESTERDAY *CAN                                     JOHN GIVE GIRL BOX\n",
      "  181: *VISIT *BOX                                                   JOHN ARRIVE\n"
     ]
    }
   ],
   "source": [
    "# TODO Choose a feature set and model selector\n",
    "features = features_polar # change as needed\n",
    "model_selector = SelectorCV # change as needed\n",
    "\n",
    "# TODO Recognize the test set and display the result with the show_errors method\n",
    "models = train_all_words(features, model_selector)\n",
    "test_set = asl.build_test(features)\n",
    "probabilities, guesses = recognize(models, test_set)\n",
    "show_errors(guesses, test_set)"
   ]
  },
  {
   "cell_type": "markdown",
   "metadata": {},
   "source": [
    "**Question 3:**  Summarize the error results from three combinations of features and model selectors.  What was the \"best\" combination and why?  What additional information might we use to improve our WER?  For more insight on improving WER, take a look at the introduction to Part 4.\n",
    "\n",
    "**Answer 3:**\n",
    "\n",
    "The best combination was found using the Feature_ground, as the BIC and DIC use the Bayes Factor Criterion the high dispersion of the dataset in this feature improve the results, when we apply the normalization that selecotrs will find less words. \n",
    "\n",
    "Summary:\n",
    "\n",
    "**FEATURE_GROUND\n",
    "\n",
    "\n",
    "BIC\n",
    "\n",
    "**** WER = 0.5112359550561798\n",
    "Total correct: 87 out of 178\n",
    "\n",
    "DIC\n",
    "\n",
    "**** WER = 0.5786516853932584\n",
    "Total correct: 75 out of 178\n",
    "\n",
    "CV\n",
    "\n",
    "*** WER = 0.6123595505617978\n",
    "Total correct: 69 out of 178\n",
    "\n",
    "\n",
    "**FEATURES_NORM\n",
    "\n",
    "BIC\n",
    "\n",
    "**** WER = 0.6067415730337079\n",
    "Total correct: 70 out of 178\n",
    "\n",
    "DIC\n",
    "\n",
    "**** WER = 0.6067415730337079\n",
    "Total correct: 70 out of 178\n",
    "\n",
    "CV\n",
    "\n",
    "**** WER = 0.6573033707865169\n",
    "Total correct: 61 out of 178\n",
    "\n",
    "\n",
    "**FEATURES_DELTA\n",
    "\n",
    "BIC \n",
    "\n",
    "**** WER = 0.6235955056179775\n",
    "Total correct: 67 out of 178\n",
    "\n",
    "\n",
    "DIC\n",
    "\n",
    "**** WER = 0.6348314606741573\n",
    "Total correct: 65 out of 178\n",
    "\n",
    "CV\n",
    "\n",
    "**** WER = 0.6235955056179775\n",
    "Total correct: 67 out of 178\n",
    "\n",
    "**FEATURES_POLAR\n",
    "\n",
    "\n",
    "BIC\n",
    "\n",
    "**** WER = 0.5393258426966292\n",
    "Total correct: 82 out of 178\n",
    "\n",
    "\n",
    "DIC\n",
    "\n",
    "**** WER = 0.5449438202247191\n",
    "Total correct: 81 out of 178\n",
    "\n",
    "\n",
    "CV\n",
    "\n",
    "**** WER = 0.651685393258427\n",
    "Total correct: 62 out of 178"
   ]
  },
  {
   "cell_type": "markdown",
   "metadata": {},
   "source": [
    "<a id='part3_test'></a>\n",
    "### Recognizer Unit Tests\n",
    "Run the following unit tests as a sanity check on the defined recognizer.  The test simply looks for some valid values but is not exhaustive. However, the project should not be submitted if these tests don't pass."
   ]
  },
  {
   "cell_type": "code",
   "execution_count": 38,
   "metadata": {},
   "outputs": [
    {
     "name": "stderr",
     "output_type": "stream",
     "text": [
      "\n",
      "----------------------------------------------------------------------\n",
      "Ran 0 tests in 0.000s\n",
      "\n",
      "OK\n"
     ]
    },
    {
     "data": {
      "text/plain": [
       "<unittest.runner.TextTestResult run=0 errors=0 failures=0>"
      ]
     },
     "execution_count": 38,
     "metadata": {},
     "output_type": "execute_result"
    }
   ],
   "source": [
    "from asl_test_recognizer import TestRecognize\n",
    "suite = unittest.TestLoader().loadTestsFromModule(TestRecognize())\n",
    "unittest.TextTestRunner().run(suite)"
   ]
  },
  {
   "cell_type": "markdown",
   "metadata": {},
   "source": [
    "<a id='part4_info'></a>\n",
    "## PART 4: (OPTIONAL)  Improve the WER with Language Models\n",
    "We've squeezed just about as much as we can out of the model and still only get about 50% of the words right! Surely we can do better than that.  Probability to the rescue again in the form of [statistical language models (SLM)](https://en.wikipedia.org/wiki/Language_model).  The basic idea is that each word has some probability of occurrence within the set, and some probability that it is adjacent to specific other words. We can use that additional information to make better choices.\n",
    "\n",
    "##### Additional reading and resources\n",
    "- [Introduction to N-grams (Stanford Jurafsky slides)](https://web.stanford.edu/class/cs124/lec/languagemodeling.pdf)\n",
    "- [Speech Recognition Techniques for a Sign Language Recognition System, Philippe Dreuw et al](https://www-i6.informatik.rwth-aachen.de/publications/download/154/Dreuw--2007.pdf) see the improved results of applying LM on *this* data!\n",
    "- [SLM data for *this* ASL dataset](ftp://wasserstoff.informatik.rwth-aachen.de/pub/rwth-boston-104/lm/)\n",
    "\n",
    "##### Optional challenge\n",
    "The recognizer you implemented in Part 3 is equivalent to a \"0-gram\" SLM.  Improve the WER with the SLM data provided with the data set in the link above using \"1-gram\", \"2-gram\", and/or \"3-gram\" statistics. The `probabilities` data you've already calculated will be useful and can be turned into a pandas DataFrame if desired (see next cell).  \n",
    "Good luck!  Share your results with the class!"
   ]
  },
  {
   "cell_type": "code",
   "execution_count": 36,
   "metadata": {},
   "outputs": [
    {
     "data": {
      "text/html": [
       "<div>\n",
       "<style scoped>\n",
       "    .dataframe tbody tr th:only-of-type {\n",
       "        vertical-align: middle;\n",
       "    }\n",
       "\n",
       "    .dataframe tbody tr th {\n",
       "        vertical-align: top;\n",
       "    }\n",
       "\n",
       "    .dataframe thead th {\n",
       "        text-align: right;\n",
       "    }\n",
       "</style>\n",
       "<table border=\"1\" class=\"dataframe\">\n",
       "  <thead>\n",
       "    <tr style=\"text-align: right;\">\n",
       "      <th></th>\n",
       "      <th>ALL</th>\n",
       "      <th>ANN</th>\n",
       "      <th>APPLE</th>\n",
       "      <th>ARRIVE</th>\n",
       "      <th>BILL</th>\n",
       "      <th>BLAME</th>\n",
       "      <th>BLUE</th>\n",
       "      <th>BOOK</th>\n",
       "      <th>BORROW</th>\n",
       "      <th>BOX</th>\n",
       "      <th>...</th>\n",
       "      <th>VIDEOTAPE</th>\n",
       "      <th>VISIT</th>\n",
       "      <th>WANT</th>\n",
       "      <th>WHAT</th>\n",
       "      <th>WHO</th>\n",
       "      <th>WILL</th>\n",
       "      <th>WOMAN</th>\n",
       "      <th>WONT</th>\n",
       "      <th>WRITE</th>\n",
       "      <th>YESTERDAY</th>\n",
       "    </tr>\n",
       "  </thead>\n",
       "  <tbody>\n",
       "    <tr>\n",
       "      <th>0</th>\n",
       "      <td>-inf</td>\n",
       "      <td>-inf</td>\n",
       "      <td>-1162.745517</td>\n",
       "      <td>-368.722175</td>\n",
       "      <td>-607.829743</td>\n",
       "      <td>-298.742649</td>\n",
       "      <td>-inf</td>\n",
       "      <td>-1014.391655</td>\n",
       "      <td>-inf</td>\n",
       "      <td>-380.526936</td>\n",
       "      <td>...</td>\n",
       "      <td>-419.922178</td>\n",
       "      <td>-277.686230</td>\n",
       "      <td>-3.637858e+05</td>\n",
       "      <td>-362.325982</td>\n",
       "      <td>-221.040990</td>\n",
       "      <td>-inf</td>\n",
       "      <td>-459.651517</td>\n",
       "      <td>-inf</td>\n",
       "      <td>-92393.228668</td>\n",
       "      <td>-301.751990</td>\n",
       "    </tr>\n",
       "    <tr>\n",
       "      <th>1</th>\n",
       "      <td>-inf</td>\n",
       "      <td>-inf</td>\n",
       "      <td>-2006.998510</td>\n",
       "      <td>-217.066015</td>\n",
       "      <td>-3418.213248</td>\n",
       "      <td>-289.203770</td>\n",
       "      <td>-inf</td>\n",
       "      <td>-230.253048</td>\n",
       "      <td>-inf</td>\n",
       "      <td>-365.748443</td>\n",
       "      <td>...</td>\n",
       "      <td>-227.910257</td>\n",
       "      <td>-305.483971</td>\n",
       "      <td>-1.614115e+05</td>\n",
       "      <td>-335.159577</td>\n",
       "      <td>-349.582106</td>\n",
       "      <td>-inf</td>\n",
       "      <td>-635.290773</td>\n",
       "      <td>-inf</td>\n",
       "      <td>-96330.246750</td>\n",
       "      <td>-440.221020</td>\n",
       "    </tr>\n",
       "    <tr>\n",
       "      <th>2</th>\n",
       "      <td>-inf</td>\n",
       "      <td>-inf</td>\n",
       "      <td>-3348.124045</td>\n",
       "      <td>-443.767862</td>\n",
       "      <td>-4359.102966</td>\n",
       "      <td>-509.843315</td>\n",
       "      <td>-inf</td>\n",
       "      <td>-1007.302431</td>\n",
       "      <td>-inf</td>\n",
       "      <td>-697.260480</td>\n",
       "      <td>...</td>\n",
       "      <td>-683.312181</td>\n",
       "      <td>-563.259049</td>\n",
       "      <td>-9.752615e+04</td>\n",
       "      <td>-617.668880</td>\n",
       "      <td>-596.268199</td>\n",
       "      <td>-inf</td>\n",
       "      <td>-1198.254033</td>\n",
       "      <td>-inf</td>\n",
       "      <td>-118370.400754</td>\n",
       "      <td>-735.153894</td>\n",
       "    </tr>\n",
       "    <tr>\n",
       "      <th>3</th>\n",
       "      <td>-inf</td>\n",
       "      <td>-inf</td>\n",
       "      <td>-761.647616</td>\n",
       "      <td>-1064.351026</td>\n",
       "      <td>-1083.295902</td>\n",
       "      <td>-506.423220</td>\n",
       "      <td>-inf</td>\n",
       "      <td>-932.106878</td>\n",
       "      <td>-inf</td>\n",
       "      <td>-495.344134</td>\n",
       "      <td>...</td>\n",
       "      <td>-1282.935904</td>\n",
       "      <td>-307.584537</td>\n",
       "      <td>-1.452280e+06</td>\n",
       "      <td>-519.549725</td>\n",
       "      <td>-733.355539</td>\n",
       "      <td>-inf</td>\n",
       "      <td>-387.608967</td>\n",
       "      <td>-inf</td>\n",
       "      <td>-715631.305259</td>\n",
       "      <td>-664.495621</td>\n",
       "    </tr>\n",
       "    <tr>\n",
       "      <th>4</th>\n",
       "      <td>-inf</td>\n",
       "      <td>-inf</td>\n",
       "      <td>-579.741763</td>\n",
       "      <td>-129.898505</td>\n",
       "      <td>-1191.398881</td>\n",
       "      <td>-116.178314</td>\n",
       "      <td>-inf</td>\n",
       "      <td>-239.965230</td>\n",
       "      <td>-inf</td>\n",
       "      <td>-115.931793</td>\n",
       "      <td>...</td>\n",
       "      <td>-226.111936</td>\n",
       "      <td>-114.821572</td>\n",
       "      <td>-2.136776e+05</td>\n",
       "      <td>-90.078423</td>\n",
       "      <td>-282.055310</td>\n",
       "      <td>-inf</td>\n",
       "      <td>-227.571470</td>\n",
       "      <td>-inf</td>\n",
       "      <td>-151841.733015</td>\n",
       "      <td>-136.878906</td>\n",
       "    </tr>\n",
       "  </tbody>\n",
       "</table>\n",
       "<p>5 rows × 112 columns</p>\n",
       "</div>"
      ],
      "text/plain": [
       "   ALL  ANN        APPLE       ARRIVE         BILL       BLAME  BLUE  \\\n",
       "0 -inf -inf -1162.745517  -368.722175  -607.829743 -298.742649  -inf   \n",
       "1 -inf -inf -2006.998510  -217.066015 -3418.213248 -289.203770  -inf   \n",
       "2 -inf -inf -3348.124045  -443.767862 -4359.102966 -509.843315  -inf   \n",
       "3 -inf -inf  -761.647616 -1064.351026 -1083.295902 -506.423220  -inf   \n",
       "4 -inf -inf  -579.741763  -129.898505 -1191.398881 -116.178314  -inf   \n",
       "\n",
       "          BOOK  BORROW         BOX     ...        VIDEOTAPE       VISIT  \\\n",
       "0 -1014.391655    -inf -380.526936     ...      -419.922178 -277.686230   \n",
       "1  -230.253048    -inf -365.748443     ...      -227.910257 -305.483971   \n",
       "2 -1007.302431    -inf -697.260480     ...      -683.312181 -563.259049   \n",
       "3  -932.106878    -inf -495.344134     ...     -1282.935904 -307.584537   \n",
       "4  -239.965230    -inf -115.931793     ...      -226.111936 -114.821572   \n",
       "\n",
       "           WANT        WHAT         WHO  WILL        WOMAN  WONT  \\\n",
       "0 -3.637858e+05 -362.325982 -221.040990  -inf  -459.651517  -inf   \n",
       "1 -1.614115e+05 -335.159577 -349.582106  -inf  -635.290773  -inf   \n",
       "2 -9.752615e+04 -617.668880 -596.268199  -inf -1198.254033  -inf   \n",
       "3 -1.452280e+06 -519.549725 -733.355539  -inf  -387.608967  -inf   \n",
       "4 -2.136776e+05  -90.078423 -282.055310  -inf  -227.571470  -inf   \n",
       "\n",
       "           WRITE   YESTERDAY  \n",
       "0  -92393.228668 -301.751990  \n",
       "1  -96330.246750 -440.221020  \n",
       "2 -118370.400754 -735.153894  \n",
       "3 -715631.305259 -664.495621  \n",
       "4 -151841.733015 -136.878906  \n",
       "\n",
       "[5 rows x 112 columns]"
      ]
     },
     "execution_count": 36,
     "metadata": {},
     "output_type": "execute_result"
    }
   ],
   "source": [
    "# create a DataFrame of log likelihoods for the test word items\n",
    "df_probs = pd.DataFrame(data=probabilities)\n",
    "df_probs.head()"
   ]
  }
 ],
 "metadata": {
  "anaconda-cloud": {},
  "kernelspec": {
   "display_name": "Python [default]",
   "language": "python",
   "name": "python3"
  },
  "language_info": {
   "codemirror_mode": {
    "name": "ipython",
    "version": 3
   },
   "file_extension": ".py",
   "mimetype": "text/x-python",
   "name": "python",
   "nbconvert_exporter": "python",
   "pygments_lexer": "ipython3",
   "version": "3.5.4"
  },
  "nbpresent": {
   "slides": {
    "0a2d4faf-9fb8-4cee-853b-ed68b90f3f8a": {
     "id": "0a2d4faf-9fb8-4cee-853b-ed68b90f3f8a",
     "prev": null,
     "regions": {
      "3fb9ce83-fbb2-4995-832a-f8f400734ad3": {
       "attrs": {
        "height": 0.8,
        "width": 0.8,
        "x": 0.1,
        "y": 0.1
       },
       "content": {
        "cell": "1dbb9346-179b-4835-b430-6369d88f1a1b",
        "part": "whole"
       },
       "id": "3fb9ce83-fbb2-4995-832a-f8f400734ad3"
      }
     }
    },
    "1519a4fa-1588-4644-98de-9c43bf0aceb5": {
     "id": "1519a4fa-1588-4644-98de-9c43bf0aceb5",
     "prev": "8a712017-49b7-449f-8264-43a032ace902",
     "regions": {
      "29546121-ed11-44b7-8144-0c44e874098f": {
       "attrs": {
        "height": 0.8,
        "width": 0.8,
        "x": 0.1,
        "y": 0.1
       },
       "content": {
        "cell": "365590a4-6963-4812-a1cf-688f7b6bb9ff",
        "part": "whole"
       },
       "id": "29546121-ed11-44b7-8144-0c44e874098f"
      }
     }
    },
    "176eaccb-15dd-455d-bf07-504213e7aa01": {
     "id": "176eaccb-15dd-455d-bf07-504213e7aa01",
     "prev": "de6b30f4-2463-4901-92ed-aabad78e5e0f",
     "regions": {
      "1542aa9e-dc55-4b90-adef-bf5181872b42": {
       "attrs": {
        "height": 0.8,
        "width": 0.8,
        "x": 0.1,
        "y": 0.1
       },
       "content": {
        "cell": "5c242050-c1f7-4b3b-8103-2ea9d71a40dc",
        "part": "whole"
       },
       "id": "1542aa9e-dc55-4b90-adef-bf5181872b42"
      }
     }
    },
    "19091b36-b0e7-49b1-b501-ec05937e0da9": {
     "id": "19091b36-b0e7-49b1-b501-ec05937e0da9",
     "prev": "1983c02e-fb99-4c05-a728-e0c0ad7c06d8",
     "regions": {
      "6529a31c-8d45-425c-b1d7-d0ac6fca6a32": {
       "attrs": {
        "height": 0.8,
        "width": 0.8,
        "x": 0.1,
        "y": 0.1
       },
       "content": {
        "cell": "e766909d-9421-4aaf-9fb1-bc90d27e49e3",
        "part": "whole"
       },
       "id": "6529a31c-8d45-425c-b1d7-d0ac6fca6a32"
      }
     }
    },
    "1983c02e-fb99-4c05-a728-e0c0ad7c06d8": {
     "id": "1983c02e-fb99-4c05-a728-e0c0ad7c06d8",
     "prev": "176eaccb-15dd-455d-bf07-504213e7aa01",
     "regions": {
      "1c4e605d-7f22-4f30-b3fb-74b2937e7a4a": {
       "attrs": {
        "height": 0.8,
        "width": 0.8,
        "x": 0.1,
        "y": 0.1
       },
       "content": {
        "cell": "4d217204-e5c0-4568-bd30-12c2e41b681d",
        "part": "whole"
       },
       "id": "1c4e605d-7f22-4f30-b3fb-74b2937e7a4a"
      }
     }
    },
    "212b111f-4527-459c-8297-1db5580ee5c9": {
     "id": "212b111f-4527-459c-8297-1db5580ee5c9",
     "prev": "76898529-e49e-4663-8d02-8261dfe1d94b",
     "regions": {
      "2e4bd280-3cd6-47d0-9c81-17737b24053b": {
       "attrs": {
        "height": 0.8,
        "width": 0.8,
        "x": 0.1,
        "y": 0.1
       },
       "content": {
        "cell": "0c316996-9933-4b3d-82ec-259518dc8bc9",
        "part": "whole"
       },
       "id": "2e4bd280-3cd6-47d0-9c81-17737b24053b"
      }
     }
    },
    "23a7337f-a0cf-4ed4-baa9-ec06bfdc0579": {
     "id": "23a7337f-a0cf-4ed4-baa9-ec06bfdc0579",
     "prev": "e76e9a02-54c1-4ec9-80fb-c611ed398122",
     "regions": {
      "b5721d20-d6f8-4ddb-a5aa-eb16f0cc8893": {
       "attrs": {
        "height": 0.8,
        "width": 0.8,
        "x": 0.1,
        "y": 0.1
       },
       "content": {
        "cell": "313015a2-b5a9-4136-a8ea-5d011e47d840",
        "part": "whole"
       },
       "id": "b5721d20-d6f8-4ddb-a5aa-eb16f0cc8893"
      }
     }
    },
    "732f1952-ee54-46fb-8067-099512824296": {
     "id": "732f1952-ee54-46fb-8067-099512824296",
     "prev": "0a2d4faf-9fb8-4cee-853b-ed68b90f3f8a",
     "regions": {
      "f31d4597-08ad-4c46-ad52-4bd2d775c624": {
       "attrs": {
        "height": 0.8,
        "width": 0.8,
        "x": 0.1,
        "y": 0.1
       },
       "content": {
        "cell": "aadfec52-27ca-4541-8920-fa9253d51827",
        "part": "whole"
       },
       "id": "f31d4597-08ad-4c46-ad52-4bd2d775c624"
      }
     }
    },
    "76898529-e49e-4663-8d02-8261dfe1d94b": {
     "id": "76898529-e49e-4663-8d02-8261dfe1d94b",
     "prev": "19091b36-b0e7-49b1-b501-ec05937e0da9",
     "regions": {
      "ec1746fc-aec9-4a7c-8225-9e9ac8d45889": {
       "attrs": {
        "height": 0.8,
        "width": 0.8,
        "x": 0.1,
        "y": 0.1
       },
       "content": {
        "cell": "b3e539be-84e2-49ce-a183-31cfc5c7ce7c",
        "part": "whole"
       },
       "id": "ec1746fc-aec9-4a7c-8225-9e9ac8d45889"
      }
     }
    },
    "8a712017-49b7-449f-8264-43a032ace902": {
     "id": "8a712017-49b7-449f-8264-43a032ace902",
     "prev": "bed9e696-630e-4747-be1c-bc3737ba992f",
     "regions": {
      "1faab517-cd16-4c63-bb01-a67246749d7a": {
       "attrs": {
        "height": 0.8,
        "width": 0.8,
        "x": 0.1,
        "y": 0.1
       },
       "content": {
        "cell": "3f14ddf0-4145-4687-9c33-712c3c32520f",
        "part": "whole"
       },
       "id": "1faab517-cd16-4c63-bb01-a67246749d7a"
      }
     }
    },
    "90af992d-eb6d-4496-b2d2-6aa9a95b6a61": {
     "id": "90af992d-eb6d-4496-b2d2-6aa9a95b6a61",
     "prev": "732f1952-ee54-46fb-8067-099512824296",
     "regions": {
      "4f448bec-5be9-4553-88ae-e35ed7612f25": {
       "attrs": {
        "height": 0.8,
        "width": 0.8,
        "x": 0.1,
        "y": 0.1
       },
       "content": {
        "cell": "c445fbfb-b8ab-4e9a-8d13-12231a1c588f",
        "part": "whole"
       },
       "id": "4f448bec-5be9-4553-88ae-e35ed7612f25"
      }
     }
    },
    "bed9e696-630e-4747-be1c-bc3737ba992f": {
     "id": "bed9e696-630e-4747-be1c-bc3737ba992f",
     "prev": "23a7337f-a0cf-4ed4-baa9-ec06bfdc0579",
     "regions": {
      "ac1513f0-404f-492b-8b42-0313e9a753b0": {
       "attrs": {
        "height": 0.8,
        "width": 0.8,
        "x": 0.1,
        "y": 0.1
       },
       "content": {
        "cell": "18dd2eee-8b6c-4a5e-9539-132d00a7c7e1",
        "part": "whole"
       },
       "id": "ac1513f0-404f-492b-8b42-0313e9a753b0"
      }
     }
    },
    "de6b30f4-2463-4901-92ed-aabad78e5e0f": {
     "id": "de6b30f4-2463-4901-92ed-aabad78e5e0f",
     "prev": "e36b4639-be8c-46f7-a8c9-bcfb134f9fd0",
     "regions": {
      "55ec36e0-362f-4fd3-8060-7cee056039aa": {
       "attrs": {
        "height": 0.8,
        "width": 0.8,
        "x": 0.1,
        "y": 0.1
       },
       "content": {
        "cell": "c3cf461e-4c9e-4dec-99d2-07bfa79cbe23",
        "part": "whole"
       },
       "id": "55ec36e0-362f-4fd3-8060-7cee056039aa"
      }
     }
    },
    "e36b4639-be8c-46f7-a8c9-bcfb134f9fd0": {
     "id": "e36b4639-be8c-46f7-a8c9-bcfb134f9fd0",
     "prev": "1519a4fa-1588-4644-98de-9c43bf0aceb5",
     "regions": {
      "4c1e9714-9ba0-45fd-8a2f-ef80a5c85c2e": {
       "attrs": {
        "height": 0.8,
        "width": 0.8,
        "x": 0.1,
        "y": 0.1
       },
       "content": {
        "cell": "6534d4dc-125f-47e6-a022-cf1e0d277174",
        "part": "whole"
       },
       "id": "4c1e9714-9ba0-45fd-8a2f-ef80a5c85c2e"
      }
     }
    },
    "e76e9a02-54c1-4ec9-80fb-c611ed398122": {
     "id": "e76e9a02-54c1-4ec9-80fb-c611ed398122",
     "prev": "90af992d-eb6d-4496-b2d2-6aa9a95b6a61",
     "regions": {
      "9491b84d-193b-40ff-9321-d21eb1ba88d4": {
       "attrs": {
        "height": 0.8,
        "width": 0.8,
        "x": 0.1,
        "y": 0.1
       },
       "content": {
        "cell": "b64ec10e-fa9d-4f3f-907f-6799611ed6b1",
        "part": "whole"
       },
       "id": "9491b84d-193b-40ff-9321-d21eb1ba88d4"
      }
     }
    }
   },
   "themes": {}
  }
 },
 "nbformat": 4,
 "nbformat_minor": 2
}
